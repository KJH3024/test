{
 "cells": [
  {
   "cell_type": "code",
   "execution_count": 78,
   "metadata": {},
   "outputs": [
    {
     "data": {
      "text/html": [
       "<div>\n",
       "<style scoped>\n",
       "    .dataframe tbody tr th:only-of-type {\n",
       "        vertical-align: middle;\n",
       "    }\n",
       "\n",
       "    .dataframe tbody tr th {\n",
       "        vertical-align: top;\n",
       "    }\n",
       "\n",
       "    .dataframe thead th {\n",
       "        text-align: right;\n",
       "    }\n",
       "</style>\n",
       "<table border=\"1\" class=\"dataframe\">\n",
       "  <thead>\n",
       "    <tr style=\"text-align: right;\">\n",
       "      <th></th>\n",
       "      <th>연료</th>\n",
       "      <th>소매판매지수_증감률</th>\n",
       "      <th>도입단가_등락률</th>\n",
       "      <th>동월_평균_등락률</th>\n",
       "      <th>전체_평균_대비</th>\n",
       "      <th>소비</th>\n",
       "    </tr>\n",
       "    <tr>\n",
       "      <th>날짜</th>\n",
       "      <th></th>\n",
       "      <th></th>\n",
       "      <th></th>\n",
       "      <th></th>\n",
       "      <th></th>\n",
       "      <th></th>\n",
       "    </tr>\n",
       "  </thead>\n",
       "  <tbody>\n",
       "    <tr>\n",
       "      <th>201001</th>\n",
       "      <td>-9.6</td>\n",
       "      <td>-0.095082</td>\n",
       "      <td>-0.006361</td>\n",
       "      <td>-4.100000</td>\n",
       "      <td>1</td>\n",
       "      <td>0</td>\n",
       "    </tr>\n",
       "    <tr>\n",
       "      <th>201002</th>\n",
       "      <td>-4.0</td>\n",
       "      <td>-0.016908</td>\n",
       "      <td>-0.058899</td>\n",
       "      <td>-8.346154</td>\n",
       "      <td>0</td>\n",
       "      <td>0</td>\n",
       "    </tr>\n",
       "    <tr>\n",
       "      <th>201003</th>\n",
       "      <td>14.1</td>\n",
       "      <td>0.054054</td>\n",
       "      <td>0.051701</td>\n",
       "      <td>11.684615</td>\n",
       "      <td>1</td>\n",
       "      <td>1</td>\n",
       "    </tr>\n",
       "    <tr>\n",
       "      <th>201004</th>\n",
       "      <td>0.3</td>\n",
       "      <td>-0.018648</td>\n",
       "      <td>0.084088</td>\n",
       "      <td>-2.684615</td>\n",
       "      <td>1</td>\n",
       "      <td>1</td>\n",
       "    </tr>\n",
       "    <tr>\n",
       "      <th>201005</th>\n",
       "      <td>-1.7</td>\n",
       "      <td>0.042755</td>\n",
       "      <td>0.013126</td>\n",
       "      <td>3.225000</td>\n",
       "      <td>0</td>\n",
       "      <td>0</td>\n",
       "    </tr>\n",
       "    <tr>\n",
       "      <th>...</th>\n",
       "      <td>...</td>\n",
       "      <td>...</td>\n",
       "      <td>...</td>\n",
       "      <td>...</td>\n",
       "      <td>...</td>\n",
       "      <td>...</td>\n",
       "    </tr>\n",
       "    <tr>\n",
       "      <th>202112</th>\n",
       "      <td>-0.1</td>\n",
       "      <td>0.020048</td>\n",
       "      <td>-0.009709</td>\n",
       "      <td>2.191667</td>\n",
       "      <td>0</td>\n",
       "      <td>0</td>\n",
       "    </tr>\n",
       "    <tr>\n",
       "      <th>202201</th>\n",
       "      <td>-1.9</td>\n",
       "      <td>-0.076258</td>\n",
       "      <td>-0.030637</td>\n",
       "      <td>-4.100000</td>\n",
       "      <td>1</td>\n",
       "      <td>0</td>\n",
       "    </tr>\n",
       "    <tr>\n",
       "      <th>202202</th>\n",
       "      <td>-10.7</td>\n",
       "      <td>-0.081702</td>\n",
       "      <td>0.113780</td>\n",
       "      <td>-8.346154</td>\n",
       "      <td>0</td>\n",
       "      <td>0</td>\n",
       "    </tr>\n",
       "    <tr>\n",
       "      <th>202203</th>\n",
       "      <td>20.3</td>\n",
       "      <td>0.130677</td>\n",
       "      <td>0.105562</td>\n",
       "      <td>11.684615</td>\n",
       "      <td>1</td>\n",
       "      <td>1</td>\n",
       "    </tr>\n",
       "    <tr>\n",
       "      <th>202204</th>\n",
       "      <td>6.0</td>\n",
       "      <td>-0.021311</td>\n",
       "      <td>0.154004</td>\n",
       "      <td>-2.684615</td>\n",
       "      <td>1</td>\n",
       "      <td>1</td>\n",
       "    </tr>\n",
       "  </tbody>\n",
       "</table>\n",
       "<p>148 rows × 6 columns</p>\n",
       "</div>"
      ],
      "text/plain": [
       "          연료  소매판매지수_증감률  도입단가_등락률  동월_평균_등락률  전체_평균_대비  소비\n",
       "날짜                                                         \n",
       "201001  -9.6   -0.095082 -0.006361  -4.100000         1   0\n",
       "201002  -4.0   -0.016908 -0.058899  -8.346154         0   0\n",
       "201003  14.1    0.054054  0.051701  11.684615         1   1\n",
       "201004   0.3   -0.018648  0.084088  -2.684615         1   1\n",
       "201005  -1.7    0.042755  0.013126   3.225000         0   0\n",
       "...      ...         ...       ...        ...       ...  ..\n",
       "202112  -0.1    0.020048 -0.009709   2.191667         0   0\n",
       "202201  -1.9   -0.076258 -0.030637  -4.100000         1   0\n",
       "202202 -10.7   -0.081702  0.113780  -8.346154         0   0\n",
       "202203  20.3    0.130677  0.105562  11.684615         1   1\n",
       "202204   6.0   -0.021311  0.154004  -2.684615         1   1\n",
       "\n",
       "[148 rows x 6 columns]"
      ]
     },
     "execution_count": 78,
     "metadata": {},
     "output_type": "execute_result"
    }
   ],
   "source": [
    "import pandas as pd\n",
    "df = pd.read_csv('./test_bbl.csv')\n",
    "df.drop(columns=\"Unnamed: 0\", inplace=True)\n",
    "df[\"날짜\"] = pd.to_datetime(df[\"날짜\"], format='%Y-%m')      # 데이터 타입 datetime으로 변경\n",
    "df[\"날짜\"] = df[\"날짜\"].dt.strftime('%Y%m') # datetime 형식 설정\n",
    "df.set_index(\"날짜\", inplace=True) # 날짜 컬럼 인덱스 설정\n",
    "df"
   ]
  },
  {
   "cell_type": "code",
   "execution_count": 79,
   "metadata": {},
   "outputs": [],
   "source": [
    "data = df[[\"연료\",\"소매판매지수_증감률\",\"도입단가_등락률\",\"동월_평균_등락률\",\"전체_평균_대비\"]]\n",
    "target = df[\"소비\"]"
   ]
  },
  {
   "cell_type": "code",
   "execution_count": 80,
   "metadata": {},
   "outputs": [],
   "source": [
    "from sklearn.preprocessing import StandardScaler\n",
    "ss = StandardScaler()\n",
    "\n",
    "from sklearn.model_selection import cross_validate\n",
    "from sklearn.model_selection import GridSearchCV\n",
    "from sklearn.model_selection import StratifiedKFold\n",
    "from sklearn.model_selection import train_test_split\n",
    "\n",
    "import matplotlib.pyplot as plt\n",
    "%matplotlib inline\n",
    "import numpy as np\n",
    "\n",
    "from sklearn.linear_model import LogisticRegression\n",
    "from sklearn.linear_model import Ridge\n",
    "from sklearn.linear_model import Lasso"
   ]
  },
  {
   "cell_type": "code",
   "execution_count": 81,
   "metadata": {},
   "outputs": [],
   "source": [
    "from sklearn.tree import DecisionTreeClassifier\n",
    "from sklearn.ensemble import RandomForestClassifier\n",
    "from xgboost import XGBClassifier"
   ]
  },
  {
   "cell_type": "code",
   "execution_count": 75,
   "metadata": {},
   "outputs": [
    {
     "data": {
      "text/html": [
       "<style>#sk-container-id-3 {color: black;background-color: white;}#sk-container-id-3 pre{padding: 0;}#sk-container-id-3 div.sk-toggleable {background-color: white;}#sk-container-id-3 label.sk-toggleable__label {cursor: pointer;display: block;width: 100%;margin-bottom: 0;padding: 0.3em;box-sizing: border-box;text-align: center;}#sk-container-id-3 label.sk-toggleable__label-arrow:before {content: \"▸\";float: left;margin-right: 0.25em;color: #696969;}#sk-container-id-3 label.sk-toggleable__label-arrow:hover:before {color: black;}#sk-container-id-3 div.sk-estimator:hover label.sk-toggleable__label-arrow:before {color: black;}#sk-container-id-3 div.sk-toggleable__content {max-height: 0;max-width: 0;overflow: hidden;text-align: left;background-color: #f0f8ff;}#sk-container-id-3 div.sk-toggleable__content pre {margin: 0.2em;color: black;border-radius: 0.25em;background-color: #f0f8ff;}#sk-container-id-3 input.sk-toggleable__control:checked~div.sk-toggleable__content {max-height: 200px;max-width: 100%;overflow: auto;}#sk-container-id-3 input.sk-toggleable__control:checked~label.sk-toggleable__label-arrow:before {content: \"▾\";}#sk-container-id-3 div.sk-estimator input.sk-toggleable__control:checked~label.sk-toggleable__label {background-color: #d4ebff;}#sk-container-id-3 div.sk-label input.sk-toggleable__control:checked~label.sk-toggleable__label {background-color: #d4ebff;}#sk-container-id-3 input.sk-hidden--visually {border: 0;clip: rect(1px 1px 1px 1px);clip: rect(1px, 1px, 1px, 1px);height: 1px;margin: -1px;overflow: hidden;padding: 0;position: absolute;width: 1px;}#sk-container-id-3 div.sk-estimator {font-family: monospace;background-color: #f0f8ff;border: 1px dotted black;border-radius: 0.25em;box-sizing: border-box;margin-bottom: 0.5em;}#sk-container-id-3 div.sk-estimator:hover {background-color: #d4ebff;}#sk-container-id-3 div.sk-parallel-item::after {content: \"\";width: 100%;border-bottom: 1px solid gray;flex-grow: 1;}#sk-container-id-3 div.sk-label:hover label.sk-toggleable__label {background-color: #d4ebff;}#sk-container-id-3 div.sk-serial::before {content: \"\";position: absolute;border-left: 1px solid gray;box-sizing: border-box;top: 0;bottom: 0;left: 50%;z-index: 0;}#sk-container-id-3 div.sk-serial {display: flex;flex-direction: column;align-items: center;background-color: white;padding-right: 0.2em;padding-left: 0.2em;position: relative;}#sk-container-id-3 div.sk-item {position: relative;z-index: 1;}#sk-container-id-3 div.sk-parallel {display: flex;align-items: stretch;justify-content: center;background-color: white;position: relative;}#sk-container-id-3 div.sk-item::before, #sk-container-id-3 div.sk-parallel-item::before {content: \"\";position: absolute;border-left: 1px solid gray;box-sizing: border-box;top: 0;bottom: 0;left: 50%;z-index: -1;}#sk-container-id-3 div.sk-parallel-item {display: flex;flex-direction: column;z-index: 1;position: relative;background-color: white;}#sk-container-id-3 div.sk-parallel-item:first-child::after {align-self: flex-end;width: 50%;}#sk-container-id-3 div.sk-parallel-item:last-child::after {align-self: flex-start;width: 50%;}#sk-container-id-3 div.sk-parallel-item:only-child::after {width: 0;}#sk-container-id-3 div.sk-dashed-wrapped {border: 1px dashed gray;margin: 0 0.4em 0.5em 0.4em;box-sizing: border-box;padding-bottom: 0.4em;background-color: white;}#sk-container-id-3 div.sk-label label {font-family: monospace;font-weight: bold;display: inline-block;line-height: 1.2em;}#sk-container-id-3 div.sk-label-container {text-align: center;}#sk-container-id-3 div.sk-container {/* jupyter's `normalize.less` sets `[hidden] { display: none; }` but bootstrap.min.css set `[hidden] { display: none !important; }` so we also need the `!important` here to be able to override the default hidden behavior on the sphinx rendered scikit-learn.org. See: https://github.com/scikit-learn/scikit-learn/issues/21755 */display: inline-block !important;position: relative;}#sk-container-id-3 div.sk-text-repr-fallback {display: none;}</style><div id=\"sk-container-id-3\" class=\"sk-top-container\"><div class=\"sk-text-repr-fallback\"><pre>StandardScaler()</pre><b>In a Jupyter environment, please rerun this cell to show the HTML representation or trust the notebook. <br />On GitHub, the HTML representation is unable to render, please try loading this page with nbviewer.org.</b></div><div class=\"sk-container\" hidden><div class=\"sk-item\"><div class=\"sk-estimator sk-toggleable\"><input class=\"sk-toggleable__control sk-hidden--visually\" id=\"sk-estimator-id-3\" type=\"checkbox\" checked><label for=\"sk-estimator-id-3\" class=\"sk-toggleable__label sk-toggleable__label-arrow\">StandardScaler</label><div class=\"sk-toggleable__content\"><pre>StandardScaler()</pre></div></div></div></div></div>"
      ],
      "text/plain": [
       "StandardScaler()"
      ]
     },
     "execution_count": 75,
     "metadata": {},
     "output_type": "execute_result"
    }
   ],
   "source": [
    "ss.fit(data)"
   ]
  },
  {
   "cell_type": "code",
   "execution_count": 708,
   "metadata": {},
   "outputs": [],
   "source": [
    "params = {'C':[0, 0.1, 1, 10, 20]}"
   ]
  },
  {
   "cell_type": "code",
   "execution_count": 709,
   "metadata": {},
   "outputs": [],
   "source": [
    "lr = LogisticRegression()\n",
    "rg = Ridge()\n",
    "ls = Lasso()\n",
    "logisticreg = LogisticRegression()\n",
    "detreec = DecisionTreeClassifier()\n",
    "randomforest = RandomForestClassifier()\n",
    "xgb = XGBClassifier()"
   ]
  },
  {
   "cell_type": "code",
   "execution_count": 710,
   "metadata": {},
   "outputs": [],
   "source": [
    "splitter = StratifiedKFold(n_splits=6, shuffle=True, random_state=42)\n",
    "scores_logistic = cross_validate(lr, data, target, cv=splitter, n_jobs=-1, return_train_score=True)\n",
    "scores_ridge = cross_validate(rg, data, target, cv=splitter, n_jobs=-1, return_train_score=True)\n",
    "scores_lasso = cross_validate(ls, data, target, cv=splitter, n_jobs=-1, return_train_score=True)\n",
    "scores_logisticreg = cross_validate(logisticreg, data, target, cv=splitter, n_jobs=-1, return_train_score=True)\n",
    "scores_dectree = cross_validate(detreec, data, target, cv=splitter, n_jobs=-1, return_train_score=True)\n",
    "scores_randomforest = cross_validate(randomforest, data, target, cv=splitter, n_jobs=-1, return_train_score=True)\n",
    "scores_xgb = cross_validate(xgb, data, target, cv=splitter, n_jobs=-1, return_train_score=True)"
   ]
  },
  {
   "cell_type": "code",
   "execution_count": 711,
   "metadata": {},
   "outputs": [
    {
     "name": "stdout",
     "output_type": "stream",
     "text": [
      "로지스틱 train data score :  0.86\n",
      "로지스틱 test data score :  0.85\n",
      "릿지 train data score :  0.5263615836801153\n",
      "릿지 test data score :  0.49116391560863987\n",
      "라쏘 train data score :  0.39653558279683\n",
      "라쏘 test data score :  0.3889502030935384\n",
      "결정트리(Decision Tree) train data score :  1.0\n",
      "결정트리(Decision Tree) test data score :  0.9500000000000001\n",
      "랜덤포레스트 train data score :  1.0\n",
      "랜덤포레스트 test data score :  0.9333333333333335\n",
      "XGB train data score :  1.0\n",
      "XGB test data score :  0.9500000000000001\n"
     ]
    }
   ],
   "source": [
    "print('로지스틱 train data score : ',np.mean(scores_logistic['train_score'])) \n",
    "print('로지스틱 test data score : ',np.mean(scores_logistic['test_score']))  \n",
    "print('릿지 train data score : ',np.mean(scores_ridge['train_score'])) \n",
    "print('릿지 test data score : ',np.mean(scores_ridge['test_score']))  \n",
    "print('라쏘 train data score : ', np.mean(scores_lasso['train_score'])) \n",
    "print('라쏘 test data score : ', np.mean(scores_lasso['test_score'])) \n",
    "print('결정트리(Decision Tree) train data score : ',np.mean(scores_dectree['train_score']))\n",
    "print('결정트리(Decision Tree) test data score : ',np.mean(scores_dectree['test_score']))\n",
    "print('랜덤포레스트 train data score : ',np.mean(scores_randomforest['train_score']))\n",
    "print('랜덤포레스트 test data score : ',np.mean(scores_randomforest['test_score']))\n",
    "print('XGB train data score : ',np.mean(scores_xgb['train_score']))\n",
    "print('XGB test data score : ',np.mean(scores_xgb['test_score']))"
   ]
  },
  {
   "cell_type": "code",
   "execution_count": 84,
   "metadata": {},
   "outputs": [],
   "source": [
    "from sklearn.metrics import accuracy_score\n",
    "\n",
    "X_train, X_test, y_train, y_test = train_test_split(data, target, shuffle=False, test_size= 0.2, random_state=11)\n",
    "# X_train, X_test, y_train, y_test = train_test_split(data, target, test_size= 0.3, random_state=11)"
   ]
  },
  {
   "cell_type": "code",
   "execution_count": 85,
   "metadata": {},
   "outputs": [
    {
     "data": {
      "text/html": [
       "<div>\n",
       "<style scoped>\n",
       "    .dataframe tbody tr th:only-of-type {\n",
       "        vertical-align: middle;\n",
       "    }\n",
       "\n",
       "    .dataframe tbody tr th {\n",
       "        vertical-align: top;\n",
       "    }\n",
       "\n",
       "    .dataframe thead th {\n",
       "        text-align: right;\n",
       "    }\n",
       "</style>\n",
       "<table border=\"1\" class=\"dataframe\">\n",
       "  <thead>\n",
       "    <tr style=\"text-align: right;\">\n",
       "      <th></th>\n",
       "      <th>연료</th>\n",
       "      <th>소매판매지수_증감률</th>\n",
       "      <th>도입단가_등락률</th>\n",
       "      <th>동월_평균_등락률</th>\n",
       "      <th>전체_평균_대비</th>\n",
       "    </tr>\n",
       "    <tr>\n",
       "      <th>날짜</th>\n",
       "      <th></th>\n",
       "      <th></th>\n",
       "      <th></th>\n",
       "      <th></th>\n",
       "      <th></th>\n",
       "    </tr>\n",
       "  </thead>\n",
       "  <tbody>\n",
       "    <tr>\n",
       "      <th>201911</th>\n",
       "      <td>1.4</td>\n",
       "      <td>0.040622</td>\n",
       "      <td>-0.007622</td>\n",
       "      <td>0.933333</td>\n",
       "      <td>0</td>\n",
       "    </tr>\n",
       "    <tr>\n",
       "      <th>201912</th>\n",
       "      <td>2.9</td>\n",
       "      <td>0.009967</td>\n",
       "      <td>0.012289</td>\n",
       "      <td>2.191667</td>\n",
       "      <td>0</td>\n",
       "    </tr>\n",
       "    <tr>\n",
       "      <th>202001</th>\n",
       "      <td>-2.6</td>\n",
       "      <td>-0.080592</td>\n",
       "      <td>0.051593</td>\n",
       "      <td>-4.100000</td>\n",
       "      <td>1</td>\n",
       "    </tr>\n",
       "    <tr>\n",
       "      <th>202002</th>\n",
       "      <td>-11.4</td>\n",
       "      <td>-0.125224</td>\n",
       "      <td>-0.010101</td>\n",
       "      <td>-8.346154</td>\n",
       "      <td>0</td>\n",
       "    </tr>\n",
       "    <tr>\n",
       "      <th>202003</th>\n",
       "      <td>-3.4</td>\n",
       "      <td>0.093047</td>\n",
       "      <td>-0.169096</td>\n",
       "      <td>11.684615</td>\n",
       "      <td>1</td>\n",
       "    </tr>\n",
       "    <tr>\n",
       "      <th>202004</th>\n",
       "      <td>-9.2</td>\n",
       "      <td>0.018709</td>\n",
       "      <td>-0.342105</td>\n",
       "      <td>-2.684615</td>\n",
       "      <td>1</td>\n",
       "    </tr>\n",
       "    <tr>\n",
       "      <th>202005</th>\n",
       "      <td>-3.2</td>\n",
       "      <td>0.087236</td>\n",
       "      <td>-0.357333</td>\n",
       "      <td>3.225000</td>\n",
       "      <td>0</td>\n",
       "    </tr>\n",
       "    <tr>\n",
       "      <th>202006</th>\n",
       "      <td>2.6</td>\n",
       "      <td>-0.012669</td>\n",
       "      <td>0.165975</td>\n",
       "      <td>-3.175000</td>\n",
       "      <td>1</td>\n",
       "    </tr>\n",
       "    <tr>\n",
       "      <th>202007</th>\n",
       "      <td>4.2</td>\n",
       "      <td>-0.051326</td>\n",
       "      <td>0.398577</td>\n",
       "      <td>4.450000</td>\n",
       "      <td>1</td>\n",
       "    </tr>\n",
       "    <tr>\n",
       "      <th>202008</th>\n",
       "      <td>1.9</td>\n",
       "      <td>0.007214</td>\n",
       "      <td>0.127226</td>\n",
       "      <td>3.166667</td>\n",
       "      <td>0</td>\n",
       "    </tr>\n",
       "    <tr>\n",
       "      <th>202009</th>\n",
       "      <td>-3.3</td>\n",
       "      <td>0.056401</td>\n",
       "      <td>0.045147</td>\n",
       "      <td>-5.533333</td>\n",
       "      <td>0</td>\n",
       "    </tr>\n",
       "    <tr>\n",
       "      <th>202010</th>\n",
       "      <td>1.0</td>\n",
       "      <td>-0.018644</td>\n",
       "      <td>-0.066955</td>\n",
       "      <td>3.200000</td>\n",
       "      <td>0</td>\n",
       "    </tr>\n",
       "    <tr>\n",
       "      <th>202011</th>\n",
       "      <td>0.8</td>\n",
       "      <td>0.027634</td>\n",
       "      <td>-0.034722</td>\n",
       "      <td>0.933333</td>\n",
       "      <td>0</td>\n",
       "    </tr>\n",
       "    <tr>\n",
       "      <th>202012</th>\n",
       "      <td>4.7</td>\n",
       "      <td>0.000840</td>\n",
       "      <td>0.081535</td>\n",
       "      <td>2.191667</td>\n",
       "      <td>0</td>\n",
       "    </tr>\n",
       "    <tr>\n",
       "      <th>202101</th>\n",
       "      <td>1.6</td>\n",
       "      <td>-0.057935</td>\n",
       "      <td>0.135255</td>\n",
       "      <td>-4.100000</td>\n",
       "      <td>1</td>\n",
       "    </tr>\n",
       "    <tr>\n",
       "      <th>202102</th>\n",
       "      <td>-3.3</td>\n",
       "      <td>-0.053476</td>\n",
       "      <td>0.099609</td>\n",
       "      <td>-8.346154</td>\n",
       "      <td>0</td>\n",
       "    </tr>\n",
       "    <tr>\n",
       "      <th>202103</th>\n",
       "      <td>14.6</td>\n",
       "      <td>0.125235</td>\n",
       "      <td>0.110124</td>\n",
       "      <td>11.684615</td>\n",
       "      <td>1</td>\n",
       "    </tr>\n",
       "    <tr>\n",
       "      <th>202104</th>\n",
       "      <td>-1.2</td>\n",
       "      <td>-0.005021</td>\n",
       "      <td>0.038400</td>\n",
       "      <td>-2.684615</td>\n",
       "      <td>1</td>\n",
       "    </tr>\n",
       "    <tr>\n",
       "      <th>202105</th>\n",
       "      <td>0.9</td>\n",
       "      <td>0.032801</td>\n",
       "      <td>0.013867</td>\n",
       "      <td>3.225000</td>\n",
       "      <td>0</td>\n",
       "    </tr>\n",
       "    <tr>\n",
       "      <th>202106</th>\n",
       "      <td>0.8</td>\n",
       "      <td>-0.026873</td>\n",
       "      <td>0.047112</td>\n",
       "      <td>-3.175000</td>\n",
       "      <td>1</td>\n",
       "    </tr>\n",
       "    <tr>\n",
       "      <th>202107</th>\n",
       "      <td>7.4</td>\n",
       "      <td>0.005858</td>\n",
       "      <td>0.072569</td>\n",
       "      <td>4.450000</td>\n",
       "      <td>1</td>\n",
       "    </tr>\n",
       "    <tr>\n",
       "      <th>202108</th>\n",
       "      <td>-2.6</td>\n",
       "      <td>-0.030782</td>\n",
       "      <td>-0.005413</td>\n",
       "      <td>3.166667</td>\n",
       "      <td>0</td>\n",
       "    </tr>\n",
       "    <tr>\n",
       "      <th>202109</th>\n",
       "      <td>-3.7</td>\n",
       "      <td>0.053219</td>\n",
       "      <td>-0.002721</td>\n",
       "      <td>-5.533333</td>\n",
       "      <td>0</td>\n",
       "    </tr>\n",
       "    <tr>\n",
       "      <th>202110</th>\n",
       "      <td>11.5</td>\n",
       "      <td>0.018745</td>\n",
       "      <td>0.039563</td>\n",
       "      <td>3.200000</td>\n",
       "      <td>0</td>\n",
       "    </tr>\n",
       "    <tr>\n",
       "      <th>202111</th>\n",
       "      <td>2.7</td>\n",
       "      <td>-0.002400</td>\n",
       "      <td>0.081365</td>\n",
       "      <td>0.933333</td>\n",
       "      <td>0</td>\n",
       "    </tr>\n",
       "    <tr>\n",
       "      <th>202112</th>\n",
       "      <td>-0.1</td>\n",
       "      <td>0.020048</td>\n",
       "      <td>-0.009709</td>\n",
       "      <td>2.191667</td>\n",
       "      <td>0</td>\n",
       "    </tr>\n",
       "    <tr>\n",
       "      <th>202201</th>\n",
       "      <td>-1.9</td>\n",
       "      <td>-0.076258</td>\n",
       "      <td>-0.030637</td>\n",
       "      <td>-4.100000</td>\n",
       "      <td>1</td>\n",
       "    </tr>\n",
       "    <tr>\n",
       "      <th>202202</th>\n",
       "      <td>-10.7</td>\n",
       "      <td>-0.081702</td>\n",
       "      <td>0.113780</td>\n",
       "      <td>-8.346154</td>\n",
       "      <td>0</td>\n",
       "    </tr>\n",
       "    <tr>\n",
       "      <th>202203</th>\n",
       "      <td>20.3</td>\n",
       "      <td>0.130677</td>\n",
       "      <td>0.105562</td>\n",
       "      <td>11.684615</td>\n",
       "      <td>1</td>\n",
       "    </tr>\n",
       "    <tr>\n",
       "      <th>202204</th>\n",
       "      <td>6.0</td>\n",
       "      <td>-0.021311</td>\n",
       "      <td>0.154004</td>\n",
       "      <td>-2.684615</td>\n",
       "      <td>1</td>\n",
       "    </tr>\n",
       "  </tbody>\n",
       "</table>\n",
       "</div>"
      ],
      "text/plain": [
       "          연료  소매판매지수_증감률  도입단가_등락률  동월_평균_등락률  전체_평균_대비\n",
       "날짜                                                     \n",
       "201911   1.4    0.040622 -0.007622   0.933333         0\n",
       "201912   2.9    0.009967  0.012289   2.191667         0\n",
       "202001  -2.6   -0.080592  0.051593  -4.100000         1\n",
       "202002 -11.4   -0.125224 -0.010101  -8.346154         0\n",
       "202003  -3.4    0.093047 -0.169096  11.684615         1\n",
       "202004  -9.2    0.018709 -0.342105  -2.684615         1\n",
       "202005  -3.2    0.087236 -0.357333   3.225000         0\n",
       "202006   2.6   -0.012669  0.165975  -3.175000         1\n",
       "202007   4.2   -0.051326  0.398577   4.450000         1\n",
       "202008   1.9    0.007214  0.127226   3.166667         0\n",
       "202009  -3.3    0.056401  0.045147  -5.533333         0\n",
       "202010   1.0   -0.018644 -0.066955   3.200000         0\n",
       "202011   0.8    0.027634 -0.034722   0.933333         0\n",
       "202012   4.7    0.000840  0.081535   2.191667         0\n",
       "202101   1.6   -0.057935  0.135255  -4.100000         1\n",
       "202102  -3.3   -0.053476  0.099609  -8.346154         0\n",
       "202103  14.6    0.125235  0.110124  11.684615         1\n",
       "202104  -1.2   -0.005021  0.038400  -2.684615         1\n",
       "202105   0.9    0.032801  0.013867   3.225000         0\n",
       "202106   0.8   -0.026873  0.047112  -3.175000         1\n",
       "202107   7.4    0.005858  0.072569   4.450000         1\n",
       "202108  -2.6   -0.030782 -0.005413   3.166667         0\n",
       "202109  -3.7    0.053219 -0.002721  -5.533333         0\n",
       "202110  11.5    0.018745  0.039563   3.200000         0\n",
       "202111   2.7   -0.002400  0.081365   0.933333         0\n",
       "202112  -0.1    0.020048 -0.009709   2.191667         0\n",
       "202201  -1.9   -0.076258 -0.030637  -4.100000         1\n",
       "202202 -10.7   -0.081702  0.113780  -8.346154         0\n",
       "202203  20.3    0.130677  0.105562  11.684615         1\n",
       "202204   6.0   -0.021311  0.154004  -2.684615         1"
      ]
     },
     "execution_count": 85,
     "metadata": {},
     "output_type": "execute_result"
    }
   ],
   "source": [
    "X_test"
   ]
  },
  {
   "cell_type": "code",
   "execution_count": 86,
   "metadata": {},
   "outputs": [
    {
     "name": "stdout",
     "output_type": "stream",
     "text": [
      "학습 세트 Shape:(118, 5), 테스트 세트 Shape:(30, 5)\n",
      " 학습 세트 레이블 값 분포 비율\n",
      "0    0.70339\n",
      "1    0.29661\n",
      "Name: 소비, dtype: float64\n",
      "\n",
      " 테스트 세트 레이블 값 분포 비율\n",
      "0    0.152542\n",
      "1    0.101695\n",
      "Name: 소비, dtype: float64\n"
     ]
    }
   ],
   "source": [
    "# 피처, 레이블 데이터 분포 비율\n",
    "\n",
    "train_cnt = y_train.count()\n",
    "test_cnt = y_test.count()\n",
    "print('학습 세트 Shape:{0}, 테스트 세트 Shape:{1}'.format(X_train.shape, X_test.shape))\n",
    "\n",
    "print(' 학습 세트 레이블 값 분포 비율')\n",
    "print(y_train.value_counts()/train_cnt)\n",
    "print('\\n 테스트 세트 레이블 값 분포 비율')\n",
    "print(y_test.value_counts()/train_cnt)"
   ]
  },
  {
   "cell_type": "code",
   "execution_count": 87,
   "metadata": {},
   "outputs": [],
   "source": [
    "df_clf = DecisionTreeClassifier(random_state=11)"
   ]
  },
  {
   "cell_type": "code",
   "execution_count": 88,
   "metadata": {},
   "outputs": [],
   "source": [
    "xg_clf = XGBClassifier(random_state=11)"
   ]
  },
  {
   "cell_type": "code",
   "execution_count": 89,
   "metadata": {},
   "outputs": [
    {
     "data": {
      "text/html": [
       "<style>#sk-container-id-6 {color: black;background-color: white;}#sk-container-id-6 pre{padding: 0;}#sk-container-id-6 div.sk-toggleable {background-color: white;}#sk-container-id-6 label.sk-toggleable__label {cursor: pointer;display: block;width: 100%;margin-bottom: 0;padding: 0.3em;box-sizing: border-box;text-align: center;}#sk-container-id-6 label.sk-toggleable__label-arrow:before {content: \"▸\";float: left;margin-right: 0.25em;color: #696969;}#sk-container-id-6 label.sk-toggleable__label-arrow:hover:before {color: black;}#sk-container-id-6 div.sk-estimator:hover label.sk-toggleable__label-arrow:before {color: black;}#sk-container-id-6 div.sk-toggleable__content {max-height: 0;max-width: 0;overflow: hidden;text-align: left;background-color: #f0f8ff;}#sk-container-id-6 div.sk-toggleable__content pre {margin: 0.2em;color: black;border-radius: 0.25em;background-color: #f0f8ff;}#sk-container-id-6 input.sk-toggleable__control:checked~div.sk-toggleable__content {max-height: 200px;max-width: 100%;overflow: auto;}#sk-container-id-6 input.sk-toggleable__control:checked~label.sk-toggleable__label-arrow:before {content: \"▾\";}#sk-container-id-6 div.sk-estimator input.sk-toggleable__control:checked~label.sk-toggleable__label {background-color: #d4ebff;}#sk-container-id-6 div.sk-label input.sk-toggleable__control:checked~label.sk-toggleable__label {background-color: #d4ebff;}#sk-container-id-6 input.sk-hidden--visually {border: 0;clip: rect(1px 1px 1px 1px);clip: rect(1px, 1px, 1px, 1px);height: 1px;margin: -1px;overflow: hidden;padding: 0;position: absolute;width: 1px;}#sk-container-id-6 div.sk-estimator {font-family: monospace;background-color: #f0f8ff;border: 1px dotted black;border-radius: 0.25em;box-sizing: border-box;margin-bottom: 0.5em;}#sk-container-id-6 div.sk-estimator:hover {background-color: #d4ebff;}#sk-container-id-6 div.sk-parallel-item::after {content: \"\";width: 100%;border-bottom: 1px solid gray;flex-grow: 1;}#sk-container-id-6 div.sk-label:hover label.sk-toggleable__label {background-color: #d4ebff;}#sk-container-id-6 div.sk-serial::before {content: \"\";position: absolute;border-left: 1px solid gray;box-sizing: border-box;top: 0;bottom: 0;left: 50%;z-index: 0;}#sk-container-id-6 div.sk-serial {display: flex;flex-direction: column;align-items: center;background-color: white;padding-right: 0.2em;padding-left: 0.2em;position: relative;}#sk-container-id-6 div.sk-item {position: relative;z-index: 1;}#sk-container-id-6 div.sk-parallel {display: flex;align-items: stretch;justify-content: center;background-color: white;position: relative;}#sk-container-id-6 div.sk-item::before, #sk-container-id-6 div.sk-parallel-item::before {content: \"\";position: absolute;border-left: 1px solid gray;box-sizing: border-box;top: 0;bottom: 0;left: 50%;z-index: -1;}#sk-container-id-6 div.sk-parallel-item {display: flex;flex-direction: column;z-index: 1;position: relative;background-color: white;}#sk-container-id-6 div.sk-parallel-item:first-child::after {align-self: flex-end;width: 50%;}#sk-container-id-6 div.sk-parallel-item:last-child::after {align-self: flex-start;width: 50%;}#sk-container-id-6 div.sk-parallel-item:only-child::after {width: 0;}#sk-container-id-6 div.sk-dashed-wrapped {border: 1px dashed gray;margin: 0 0.4em 0.5em 0.4em;box-sizing: border-box;padding-bottom: 0.4em;background-color: white;}#sk-container-id-6 div.sk-label label {font-family: monospace;font-weight: bold;display: inline-block;line-height: 1.2em;}#sk-container-id-6 div.sk-label-container {text-align: center;}#sk-container-id-6 div.sk-container {/* jupyter's `normalize.less` sets `[hidden] { display: none; }` but bootstrap.min.css set `[hidden] { display: none !important; }` so we also need the `!important` here to be able to override the default hidden behavior on the sphinx rendered scikit-learn.org. See: https://github.com/scikit-learn/scikit-learn/issues/21755 */display: inline-block !important;position: relative;}#sk-container-id-6 div.sk-text-repr-fallback {display: none;}</style><div id=\"sk-container-id-6\" class=\"sk-top-container\"><div class=\"sk-text-repr-fallback\"><pre>DecisionTreeClassifier(random_state=11)</pre><b>In a Jupyter environment, please rerun this cell to show the HTML representation or trust the notebook. <br />On GitHub, the HTML representation is unable to render, please try loading this page with nbviewer.org.</b></div><div class=\"sk-container\" hidden><div class=\"sk-item\"><div class=\"sk-estimator sk-toggleable\"><input class=\"sk-toggleable__control sk-hidden--visually\" id=\"sk-estimator-id-6\" type=\"checkbox\" checked><label for=\"sk-estimator-id-6\" class=\"sk-toggleable__label sk-toggleable__label-arrow\">DecisionTreeClassifier</label><div class=\"sk-toggleable__content\"><pre>DecisionTreeClassifier(random_state=11)</pre></div></div></div></div></div>"
      ],
      "text/plain": [
       "DecisionTreeClassifier(random_state=11)"
      ]
     },
     "execution_count": 89,
     "metadata": {},
     "output_type": "execute_result"
    }
   ],
   "source": [
    "df_clf.fit(X_train, y_train)"
   ]
  },
  {
   "cell_type": "code",
   "execution_count": 90,
   "metadata": {},
   "outputs": [],
   "source": [
    "X_pred = df_clf.predict(X_test)"
   ]
  },
  {
   "cell_type": "code",
   "execution_count": 91,
   "metadata": {},
   "outputs": [
    {
     "name": "stdout",
     "output_type": "stream",
     "text": [
      "예측 정확도: 0.8667\n"
     ]
    }
   ],
   "source": [
    "print('예측 정확도: {0:.4f}'.format(accuracy_score(y_test, X_pred)))"
   ]
  },
  {
   "cell_type": "code",
   "execution_count": 92,
   "metadata": {},
   "outputs": [
    {
     "data": {
      "image/png": "[encoded data removed]",
      "text/plain": [
       "<Figure size 1152x720 with 1 Axes>"
      ]
     },
     "metadata": {
      "needs_background": "light"
     },
     "output_type": "display_data"
    }
   ],
   "source": [
    "from sklearn.tree import plot_tree\n",
    "\n",
    "feature_names = [\"날짜\",\"연료\",\"소매판매지수_증감률\",\"도입단가_등락률\",\"동월_평균_등락률\",\"전체_평균_대비\"]\n",
    "\n",
    "plt.rcParams[\"font.family\"] = \"Malgun Gothic\"\n",
    "\n",
    "plt.figure(figsize=(16,10))\n",
    "plot_tree(df_clf, filled=True, feature_names=feature_names)\n",
    "plt.show()"
   ]
  },
  {
   "cell_type": "code",
   "execution_count": 93,
   "metadata": {},
   "outputs": [
    {
     "data": {
      "text/plain": [
       "array([0.55338931, 0.11057564, 0.16247849, 0.08123924, 0.09231732])"
      ]
     },
     "execution_count": 93,
     "metadata": {},
     "output_type": "execute_result"
    }
   ],
   "source": [
    "df_clf.feature_importances_"
   ]
  },
  {
   "cell_type": "code",
   "execution_count": 94,
   "metadata": {},
   "outputs": [
    {
     "data": {
      "text/plain": [
       "<AxesSubplot:title={'center':'피처중요도'}>"
      ]
     },
     "execution_count": 94,
     "metadata": {},
     "output_type": "execute_result"
    },
    {
     "data": {
      "image/png": "[encoded data removed]",
      "text/plain": [
       "<Figure size 432x288 with 1 Axes>"
      ]
     },
     "metadata": {
      "needs_background": "light"
     },
     "output_type": "display_data"
    }
   ],
   "source": [
    "# 피처 중요도 시각화\n",
    "import seaborn as sns\n",
    "import matplotlib.pyplot as plt\n",
    "\n",
    "plt.rcParams['axes.unicode_minus'] = False\n",
    "plt.rcParams[\"font.family\"] = \"Malgun Gothic\"\n",
    "\n",
    "plt.title(\"피처중요도\")\n",
    "sns.barplot(x=df_clf.feature_importances_, y=data.columns)"
   ]
  },
  {
   "cell_type": "code",
   "execution_count": 95,
   "metadata": {},
   "outputs": [
    {
     "name": "stdout",
     "output_type": "stream",
     "text": [
      "훈련 데이터 크기: 103\n",
      "테스트 데이터 크기: 45\n"
     ]
    }
   ],
   "source": [
    "num_of_train = int(len(data) * 0.7)\n",
    "num_of_test = int(len(data) - num_of_train)\n",
    "\n",
    "print('훈련 데이터 크기:', num_of_train)\n",
    "print('테스트 데이터 크기:', num_of_test)"
   ]
  },
  {
   "cell_type": "code",
   "execution_count": 96,
   "metadata": {},
   "outputs": [
    {
     "name": "stdout",
     "output_type": "stream",
     "text": [
      "X 테스트 데이터 :\n",
      "          연료  소매판매지수_증감률  도입단가_등락률  동월_평균_등락률  전체_평균_대비\n",
      "날짜                                                     \n",
      "201808   0.6   -0.034296  0.029255   3.166667         0\n",
      "201809  -3.5    0.028037 -0.005168  -5.533333         0\n",
      "201810   4.0    0.032727  0.038961   3.200000         0\n",
      "201811  -2.0    0.022887 -0.011250   0.933333         0\n",
      "201812  -3.9    0.001721 -0.141593   2.191667         0\n",
      "201901  -7.0   -0.056701 -0.103093  -4.100000         1\n",
      "201902 -11.6   -0.091075  0.004926  -8.346154         0\n",
      "201903  13.9    0.162325  0.057190  11.684615         1\n",
      "201904  -0.8   -0.039655  0.049459  -2.684615         1\n",
      "201905   8.4    0.046679  0.079529   3.225000         0\n",
      "201906  -4.9   -0.056604 -0.055935  -3.175000         1\n",
      "201907  -0.7    0.004545 -0.028902   4.450000         1\n",
      "201908   7.1    0.009050 -0.029762   3.166667         0\n",
      "201909  -8.9    0.016143 -0.003067  -5.533333         0\n",
      "201910   7.1    0.021183  0.009231   3.200000         0\n",
      "201911   1.4    0.040622 -0.007622   0.933333         0\n",
      "201912   2.9    0.009967  0.012289   2.191667         0\n",
      "202001  -2.6   -0.080592  0.051593  -4.100000         1\n",
      "202002 -11.4   -0.125224 -0.010101  -8.346154         0\n",
      "202003  -3.4    0.093047 -0.169096  11.684615         1\n",
      "202004  -9.2    0.018709 -0.342105  -2.684615         1\n",
      "202005  -3.2    0.087236 -0.357333   3.225000         0\n",
      "202006   2.6   -0.012669  0.165975  -3.175000         1\n",
      "202007   4.2   -0.051326  0.398577   4.450000         1\n",
      "202008   1.9    0.007214  0.127226   3.166667         0\n",
      "202009  -3.3    0.056401  0.045147  -5.533333         0\n",
      "202010   1.0   -0.018644 -0.066955   3.200000         0\n",
      "202011   0.8    0.027634 -0.034722   0.933333         0\n",
      "202012   4.7    0.000840  0.081535   2.191667         0\n",
      "202101   1.6   -0.057935  0.135255  -4.100000         1\n",
      "202102  -3.3   -0.053476  0.099609  -8.346154         0\n",
      "202103  14.6    0.125235  0.110124  11.684615         1\n",
      "202104  -1.2   -0.005021  0.038400  -2.684615         1\n",
      "202105   0.9    0.032801  0.013867   3.225000         0\n",
      "202106   0.8   -0.026873  0.047112  -3.175000         1\n",
      "202107   7.4    0.005858  0.072569   4.450000         1\n",
      "202108  -2.6   -0.030782 -0.005413   3.166667         0\n",
      "202109  -3.7    0.053219 -0.002721  -5.533333         0\n",
      "202110  11.5    0.018745  0.039563   3.200000         0\n",
      "202111   2.7   -0.002400  0.081365   0.933333         0\n",
      "202112  -0.1    0.020048 -0.009709   2.191667         0\n",
      "202201  -1.9   -0.076258 -0.030637  -4.100000         1\n",
      "202202 -10.7   -0.081702  0.113780  -8.346154         0\n",
      "202203  20.3    0.130677  0.105562  11.684615         1\n",
      "202204   6.0   -0.021311  0.154004  -2.684615         1\n",
      "y 테스트 데이터 :\n",
      "[0, 0, 1, 0, 0, 0, 0, 1, 0, 1, 0, 0, 0, 0, 1, 0, 1, 0, 0, 0, 0, 0, 1, 1, 1, 0, 0, 0, 0, 1, 0, 1, 0, 1, 1, 1, 0, 0, 1, 0, 0, 0, 0, 1, 1]\n"
     ]
    }
   ],
   "source": [
    "X_train = data[:num_of_train] \n",
    "X_test = data[num_of_train:] \n",
    "y_train = target[:num_of_train] \n",
    "y_test = target[num_of_train:] \n",
    "\n",
    "print('X 테스트 데이터 :')\n",
    "print(X_test)\n",
    "print('y 테스트 데이터 :')\n",
    "print(list(y_test))"
   ]
  },
  {
   "cell_type": "code",
   "execution_count": 97,
   "metadata": {},
   "outputs": [
    {
     "name": "stdout",
     "output_type": "stream",
     "text": [
      "X 테스트 데이터 :\n",
      "          연료  소매판매지수_증감률  도입단가_등락률  동월_평균_등락률  전체_평균_대비\n",
      "날짜                                                     \n",
      "202001  -2.6   -0.080592  0.051593  -4.100000         1\n",
      "202002 -11.4   -0.125224 -0.010101  -8.346154         0\n",
      "202003  -3.4    0.093047 -0.169096  11.684615         1\n",
      "202004  -9.2    0.018709 -0.342105  -2.684615         1\n",
      "202005  -3.2    0.087236 -0.357333   3.225000         0\n",
      "202006   2.6   -0.012669  0.165975  -3.175000         1\n",
      "202007   4.2   -0.051326  0.398577   4.450000         1\n",
      "202008   1.9    0.007214  0.127226   3.166667         0\n",
      "202009  -3.3    0.056401  0.045147  -5.533333         0\n",
      "202010   1.0   -0.018644 -0.066955   3.200000         0\n",
      "202011   0.8    0.027634 -0.034722   0.933333         0\n",
      "202012   4.7    0.000840  0.081535   2.191667         0\n",
      "202101   1.6   -0.057935  0.135255  -4.100000         1\n",
      "202102  -3.3   -0.053476  0.099609  -8.346154         0\n",
      "202103  14.6    0.125235  0.110124  11.684615         1\n",
      "202104  -1.2   -0.005021  0.038400  -2.684615         1\n",
      "202105   0.9    0.032801  0.013867   3.225000         0\n",
      "202106   0.8   -0.026873  0.047112  -3.175000         1\n",
      "202107   7.4    0.005858  0.072569   4.450000         1\n",
      "202108  -2.6   -0.030782 -0.005413   3.166667         0\n",
      "202109  -3.7    0.053219 -0.002721  -5.533333         0\n",
      "202110  11.5    0.018745  0.039563   3.200000         0\n",
      "202111   2.7   -0.002400  0.081365   0.933333         0\n",
      "202112  -0.1    0.020048 -0.009709   2.191667         0\n",
      "202201  -1.9   -0.076258 -0.030637  -4.100000         1\n",
      "202202 -10.7   -0.081702  0.113780  -8.346154         0\n",
      "202203  20.3    0.130677  0.105562  11.684615         1\n",
      "202204   6.0   -0.021311  0.154004  -2.684615         1\n",
      "y 테스트 데이터 :\n",
      "[0, 0, 0, 0, 0, 1, 1, 1, 0, 0, 0, 0, 1, 0, 1, 0, 1, 1, 1, 0, 0, 1, 0, 0, 0, 0, 1, 1]\n"
     ]
    }
   ],
   "source": [
    "X_train = data[:119] \n",
    "X_test = data[120:] \n",
    "y_train = target[:119] \n",
    "y_test = target[120:] \n",
    "\n",
    "print('X 테스트 데이터 :')\n",
    "print(X_test)\n",
    "print('y 테스트 데이터 :')\n",
    "print(list(y_test))"
   ]
  },
  {
   "cell_type": "code",
   "execution_count": 98,
   "metadata": {},
   "outputs": [
    {
     "name": "stdout",
     "output_type": "stream",
     "text": [
      "DecisionTreeClassifier 정확도: 0.8571\n",
      "DecisionTreeClassifier roc_auc: 0.850\n",
      "\n",
      "RandomForestClassifier 정확도: 0.8214\n",
      "DecisionTreeClassifier roc_auc: 0.821\n",
      "\n",
      "LogisticRegression 정확도: 0.8929\n",
      "DecisionTreeClassifier roc_auc: 0.864\n"
     ]
    }
   ],
   "source": [
    "from sklearn.tree import DecisionTreeClassifier\n",
    "from sklearn.ensemble import RandomForestClassifier\n",
    "from sklearn.linear_model import LogisticRegression\n",
    "from sklearn.model_selection import train_test_split\n",
    "from sklearn.metrics import accuracy_score, roc_auc_score\n",
    "import numpy as np\n",
    "\n",
    "data = df[[\"연료\",\"소매판매지수_증감률\",\"도입단가_등락률\",\"동월_평균_등락률\",\"전체_평균_대비\"]]\n",
    "target = df[\"소비\"]\n",
    "\n",
    "# X_train, X_test, y_train, y_test = train_test_split(data, target, test_size = .3, random_state=11)\n",
    "\n",
    "dt_clf = DecisionTreeClassifier(random_state=11)\n",
    "rf_clf = RandomForestClassifier(random_state=11, n_jobs=-1)\n",
    "lr_clf = LogisticRegression()\n",
    "\n",
    "# DecisionTreeClassifier 학습/예측/평가\n",
    "dt_clf.fit(X_train, y_train)\n",
    "dt_pred = dt_clf.predict(X_test)\n",
    "print('DecisionTreeClassifier 정확도: {0:.4f}'.format(accuracy_score(y_test, dt_pred)))\n",
    "print('DecisionTreeClassifier roc_auc: {:0.3f}'.format(roc_auc_score(y_test, dt_pred)))\n",
    "\n",
    "\n",
    "# RandomForestClassifier 학습/예측/평가\n",
    "rf_clf.fit(X_train, y_train)\n",
    "rf_pred = rf_clf.predict(X_test)\n",
    "print('\\nRandomForestClassifier 정확도: {0:.4f}'.format(accuracy_score(y_test, rf_pred)))\n",
    "print('DecisionTreeClassifier roc_auc: {:0.3f}'.format(roc_auc_score(y_test, rf_pred)))\n",
    "\n",
    "# LogisticRegression 학습/예측/평가\n",
    "lr_clf.fit(X_train, y_train)\n",
    "lr_pred = lr_clf.predict(X_test)\n",
    "print('\\nLogisticRegression 정확도: {0:.4f}'.format(accuracy_score(y_test, lr_pred)))\n",
    "print('DecisionTreeClassifier roc_auc: {:0.3f}'.format(roc_auc_score(y_test, lr_pred)))"
   ]
  },
  {
   "cell_type": "code",
   "execution_count": 49,
   "metadata": {},
   "outputs": [
    {
     "name": "stdout",
     "output_type": "stream",
     "text": [
      "교차 검증 0 정확도: 1.0000\n",
      "교차 검증 1 정확도: 1.0000\n",
      "교차 검증 2 정확도: 1.0000\n",
      "교차 검증 3 정확도: 1.0000\n",
      "교차 검증 4 정확도: 0.8621\n",
      "평균 정확도: 0.9724\n"
     ]
    }
   ],
   "source": [
    "from sklearn.model_selection import KFold\n",
    "from sklearn.model_selection import cross_validate\n",
    "from sklearn.model_selection import train_test_split\n",
    "import numpy as np\n",
    "\n",
    "# X_train, X_test, y_train, y_test = train_test_split(data, target, test_size = .3, random_state=11)\n",
    "def exec_kfold(clf, folds=5):\n",
    "    # 폴드 세트를 5개인 KFold객체 생성\n",
    "    kfold = KFold(n_splits=folds)\n",
    "    scores = []\n",
    "    \n",
    "    # KFold 교차 검증\n",
    "    for iter_count, (train_index, test_index) in enumerate(kfold.split(data)):\n",
    "        X_train, X_test = data.values[train_index], data.values[test_index]\n",
    "        y_train, y_test = target.values[train_index], target.values[test_index]\n",
    "        \n",
    "        clf.fit(X_train, y_train)\n",
    "        predictions = clf.predict(X_test)\n",
    "        accuracy = accuracy_score(y_test, predictions)\n",
    "        scores.append(accuracy)\n",
    "        print(\"교차 검증 {0} 정확도: {1:.4f}\".format(iter_count, accuracy))\n",
    "        \n",
    "    mean_score = np.mean(scores)\n",
    "    print(\"평균 정확도: {0:.4f}\".format(mean_score))\n",
    "\n",
    "exec_kfold(dt_clf, folds=5)"
   ]
  },
  {
   "cell_type": "code",
   "execution_count": 50,
   "metadata": {},
   "outputs": [
    {
     "name": "stdout",
     "output_type": "stream",
     "text": [
      "교차 검증 0 정확도: 0.8667\n",
      "교차 검증 1 정확도: 0.9667\n",
      "교차 검증 2 정확도: 0.9667\n",
      "교차 검증 3 정확도: 1.0000\n",
      "교차 검증 4 정확도: 0.9310\n",
      "평균 정확도: 0.9462\n"
     ]
    }
   ],
   "source": [
    "from sklearn.model_selection import cross_val_score\n",
    "\n",
    "scores = cross_val_score(dt_clf, data, target, cv=5)\n",
    "for iter_count, accuracy in enumerate(scores):\n",
    "    print(\"교차 검증 {0} 정확도: {1:.4f}\".format(iter_count, accuracy))\n",
    "\n",
    "print(\"평균 정확도: {0:.4f}\".format(np.mean(scores)))"
   ]
  },
  {
   "cell_type": "code",
   "execution_count": 51,
   "metadata": {},
   "outputs": [
    {
     "name": "stdout",
     "output_type": "stream",
     "text": [
      "GridSearchCV 최적 하이퍼 파라미터 : {'max_depth': 5, 'min_samples_leaf': 1, 'min_samples_split': 2}\n",
      "GridSearchCV 최고 정확도 :0.8822\n",
      "테스트 세트에서의 DecisionTreeClassifier 정확도 : 0.8214\n"
     ]
    }
   ],
   "source": [
    "from sklearn.model_selection import GridSearchCV\n",
    "\n",
    "parameters = {'max_depth':[2, 3, 5, 10],\\\n",
    "            'min_samples_split':[2, 3, 5],\\\n",
    "            'min_samples_leaf':[1, 5, 8]}\n",
    "\n",
    "# DecisionTreeClassifier GridSearchCV\n",
    "def best_dtparam(clf, param, scoring_name, cv_num):\n",
    "    grid_cv = GridSearchCV(clf, param_grid=param, scoring=scoring_name, cv=cv_num)\n",
    "    grid_cv.fit(X_train, y_train)\n",
    "    \n",
    "    print('GridSearchCV 최적 하이퍼 파라미터 :', grid_cv.best_params_)\n",
    "    print('GridSearchCV 최고 정확도 :{0:.4f}'.format(grid_cv.best_score_))\n",
    "    best_clf = grid_cv.best_estimator_\n",
    "    \n",
    "    # GridSearchCV의 최적 하이퍼 마라미터로 학습된 Estimator로 예측 및 평가 수행\n",
    "    dpredictions = best_clf.predict(X_test)\n",
    "    accuracy = accuracy_score(y_test, dpredictions)\n",
    "    print('테스트 세트에서의 DecisionTreeClassifier 정확도 : {0:.4f}'.format(accuracy))\n",
    "    \n",
    "best_dtparam(dt_clf, parameters, 'accuracy', 5)"
   ]
  },
  {
   "cell_type": "code",
   "execution_count": 52,
   "metadata": {},
   "outputs": [
    {
     "name": "stdout",
     "output_type": "stream",
     "text": [
      "GridSearchCV 최적 하이퍼 파라미터 : {'max_depth': 6, 'min_samples_leaf': 8, 'min_samples_split': 8, 'n_estimators': 100}\n",
      "GridSearchCV 최고 정확도 :0.8993\n",
      "테스트 세트에서의 RandomForestClassifier 정확도 : 0.7857\n"
     ]
    }
   ],
   "source": [
    "parameters = {\\\n",
    "        'n_estimators':[100],\\\n",
    "        'max_depth' : [6, 8, 10, 12],\\\n",
    "        'min_samples_leaf' : [8, 12, 18],\\\n",
    "        'min_samples_split' : [8, 16, 20]\n",
    "}\n",
    "\n",
    "# RandomForestClassifier GridSearchCV\n",
    "def best_rfparam(clf, param, cv_num, n_jobs_num):\n",
    "    grid_cv = GridSearchCV(clf, param_grid=param, cv=cv_num, n_jobs=n_jobs_num)\n",
    "    grid_cv.fit(X_train, y_train)\n",
    "    \n",
    "    print('GridSearchCV 최적 하이퍼 파라미터 :', grid_cv.best_params_)\n",
    "    print('GridSearchCV 최고 정확도 :{0:.4f}'.format(grid_cv.best_score_))\n",
    "    best_clf = grid_cv.best_estimator_\n",
    "    \n",
    "    # GridSearchCV의 최적 하이퍼 마라미터로 학습된 Estimator로 예측 및 평가 수행\n",
    "    dpredictions = best_clf.predict(X_test)\n",
    "    accuracy = accuracy_score(y_test, dpredictions)\n",
    "    print('테스트 세트에서의 RandomForestClassifier 정확도 : {0:.4f}'.format(accuracy))\n",
    "\n",
    "best_rfparam(rf_clf, parameters, 2, -1)"
   ]
  },
  {
   "cell_type": "code",
   "execution_count": 53,
   "metadata": {},
   "outputs": [
    {
     "name": "stdout",
     "output_type": "stream",
     "text": [
      "예측 정확도: 0.7500\n"
     ]
    }
   ],
   "source": [
    "# 최적 하이퍼 파라미터 적용\n",
    "rf_clf1 = RandomForestClassifier(n_estimators=100, max_depth=2, min_samples_leaf=1, min_samples_split=2, random_state=11)\n",
    "rf_clf1.fit(X_train, y_train)\n",
    "pred = rf_clf1.predict(X_test)\n",
    "print('예측 정확도: {0:.4f}'.format(accuracy_score(y_test, pred)))"
   ]
  },
  {
   "cell_type": "code",
   "execution_count": 54,
   "metadata": {},
   "outputs": [
    {
     "data": {
      "image/png": "[encoded data removed]",
      "text/plain": [
       "<Figure size 1152x1008 with 2 Axes>"
      ]
     },
     "metadata": {
      "needs_background": "light"
     },
     "output_type": "display_data"
    }
   ],
   "source": [
    "fig, axes = plt.subplots(2, 1, squeeze=False)\n",
    "fig.set_size_inches((16,14))\n",
    "\n",
    "plt.title(\"피처중요도\")\n",
    "sns.barplot(x=dt_clf.feature_importances_, y=data.columns, ax=axes[0,0])\n",
    "axes[0,0].title.set_text(\"DecisionTree 피처중요도\")\n",
    "sns.barplot(x=rf_clf1.feature_importances_, y=data.columns, ax=axes[1,0])\n",
    "axes[1,0].title.set_text(\"RandomForest 피처중요도\")\n",
    "\n",
    "plt.show()"
   ]
  },
  {
   "cell_type": "code",
   "execution_count": 64,
   "metadata": {},
   "outputs": [
    {
     "name": "stdout",
     "output_type": "stream",
     "text": [
      "오차행렬:\n",
      " [[16  1]\n",
      " [ 1 10]]\n"
     ]
    }
   ],
   "source": [
    "from sklearn.metrics import confusion_matrix\n",
    "\n",
    "c_matrix = confusion_matrix(y_test, dt_pred)\n",
    "print(\"오차행렬:\\n\", c_matrix)"
   ]
  },
  {
   "cell_type": "code",
   "execution_count": 65,
   "metadata": {},
   "outputs": [
    {
     "name": "stdout",
     "output_type": "stream",
     "text": [
      "오차 행렬\n",
      "[[16  1]\n",
      " [ 1 10]]\n",
      "정확도: 0.9286, 정밀도: 0.9091, 재현율: 0.9091\n"
     ]
    }
   ],
   "source": [
    "from sklearn.metrics import accuracy_score, precision_score, recall_score, confusion_matrix\n",
    "\n",
    "def get_clf_eval(y_test, pred):\n",
    "    confusion = confusion_matrix(y_test, dt_pred)\n",
    "    accuracy = accuracy_score(y_test, dt_pred)\n",
    "    precision = precision_score(y_test, dt_pred)\n",
    "    recall = recall_score(y_test, dt_pred)\n",
    "    print('오차 행렬')\n",
    "    print(confusion)\n",
    "    print('정확도: {0:.4f}, 정밀도: {1:.4f}, 재현율: {2:.4f}'.format(accuracy, precision, recall))\n",
    "    \n",
    "get_clf_eval(y_test, dt_pred)"
   ]
  },
  {
   "cell_type": "code",
   "execution_count": 66,
   "metadata": {},
   "outputs": [
    {
     "name": "stdout",
     "output_type": "stream",
     "text": [
      "pred_proba()결과 Shape : (28, 2)\n",
      "pred_proba array에서 앞 3개만 샘플로 추출: \n",
      " [[9.99840882e-01 1.59117704e-04]\n",
      " [9.99404415e-01 5.95584592e-04]\n",
      " [9.93724026e-01 6.27597374e-03]]\n",
      "두 개의 class 중에서 더 큰 확률을 클래스 값으로 예측: \n",
      " [[9.99840882e-01 1.59117704e-04 0.00000000e+00]\n",
      " [9.99404415e-01 5.95584592e-04 0.00000000e+00]\n",
      " [9.93724026e-01 6.27597374e-03 0.00000000e+00]]\n"
     ]
    }
   ],
   "source": [
    "pred_proba = lr_clf.predict_proba(X_test)\n",
    "pred = lr_clf.predict(X_test)\n",
    "print('pred_proba()결과 Shape : {0}'.format(pred_proba.shape))\n",
    "print('pred_proba array에서 앞 3개만 샘플로 추출: \\n', pred_proba[:3])\n",
    "\n",
    "pred_proba_result = np.concatenate([pred_proba, pred.reshape(-1, 1)], axis=1)\n",
    "print('두 개의 class 중에서 더 큰 확률을 클래스 값으로 예측: \\n', pred_proba_result[:3])"
   ]
  },
  {
   "cell_type": "code",
   "execution_count": 67,
   "metadata": {},
   "outputs": [
    {
     "name": "stdout",
     "output_type": "stream",
     "text": [
      "임곗값: 0.4\n",
      "오차 행렬\n",
      "[[16  1]\n",
      " [ 1 10]]\n",
      "정확도: 0.9286, 정밀도: 0.9091, 재현율: 0.9091\n",
      "임곗값: 0.45\n",
      "오차 행렬\n",
      "[[16  1]\n",
      " [ 1 10]]\n",
      "정확도: 0.9286, 정밀도: 0.9091, 재현율: 0.9091\n",
      "임곗값: 0.5\n",
      "오차 행렬\n",
      "[[16  1]\n",
      " [ 1 10]]\n",
      "정확도: 0.9286, 정밀도: 0.9091, 재현율: 0.9091\n",
      "임곗값: 0.55\n",
      "오차 행렬\n",
      "[[16  1]\n",
      " [ 1 10]]\n",
      "정확도: 0.9286, 정밀도: 0.9091, 재현율: 0.9091\n",
      "임곗값: 0.6\n",
      "오차 행렬\n",
      "[[16  1]\n",
      " [ 1 10]]\n",
      "정확도: 0.9286, 정밀도: 0.9091, 재현율: 0.9091\n"
     ]
    }
   ],
   "source": [
    "from sklearn.preprocessing import Binarizer\n",
    "thresholds = [0.4, 0.45, 0.5, 0.55, 0.6]\n",
    "\n",
    "def get_eval_by_threshold(y_test, pred_proba_c1, thresholds):\n",
    "    for custom_threshold in thresholds:\n",
    "        binarizer = Binarizer(threshold=custom_threshold).fit(pred_proba_c1)\n",
    "        custom_predict = binarizer.transform(pred_proba_c1)\n",
    "        print('임곗값:', custom_threshold)\n",
    "        get_clf_eval(y_test, custom_predict)\n",
    "\n",
    "get_eval_by_threshold(y_test, pred_proba[:, 1].reshape(-1, 1), thresholds)"
   ]
  },
  {
   "cell_type": "code",
   "execution_count": 68,
   "metadata": {},
   "outputs": [
    {
     "data": {
      "image/png": "[encoded data removed]",
      "text/plain": [
       "<Figure size 1008x576 with 1 Axes>"
      ]
     },
     "metadata": {
      "needs_background": "light"
     },
     "output_type": "display_data"
    }
   ],
   "source": [
    "from sklearn.metrics import precision_recall_curve\n",
    "\n",
    "def precision_recall_curve_plot(y_test, pred_proba_c1):\n",
    "    precisions, recalls, thresholds = precision_recall_curve(y_test, pred_proba_c1)\n",
    "    \n",
    "    # X축을 threshold값으로, Y축은 정밀도, 재현율 값으로 각각 plot 수행. 정밀도는 점선으로 표시\n",
    "    plt.figure(figsize=(14, 8))    \n",
    "    threshold_boundary = thresholds.shape[0]\n",
    "    plt.plot(thresholds, precisions[0:threshold_boundary], linestyle='--', label='precision')\n",
    "    plt.plot(thresholds, recalls[0:threshold_boundary], label='recall')\n",
    "    \n",
    "    start, end = plt.xlim()\n",
    "    plt.xticks(np.round(np.arange(start, end, 0.1), 2))\n",
    "    \n",
    "    plt.xlabel('Threshold value')\n",
    "    plt.ylabel('Precision and Recall value')\n",
    "    plt.legend()\n",
    "    plt.grid()\n",
    "    plt.show()\n",
    "    \n",
    "precision_recall_curve_plot(y_test, lr_clf.predict_proba(X_test)[:, 1])"
   ]
  },
  {
   "cell_type": "code",
   "execution_count": 35,
   "metadata": {},
   "outputs": [
    {
     "name": "stdout",
     "output_type": "stream",
     "text": [
      "F1 스코어: 0.9091\n"
     ]
    }
   ],
   "source": [
    "from sklearn.metrics import f1_score\n",
    "f1 = f1_score(y_test, dt_pred)\n",
    "print('F1 스코어: {0:.4f}'.format(f1))"
   ]
  },
  {
   "cell_type": "code",
   "execution_count": 36,
   "metadata": {},
   "outputs": [
    {
     "name": "stdout",
     "output_type": "stream",
     "text": [
      "임곗값: 0.4\n",
      "오차행렬\n",
      "[[15  2]\n",
      " [ 2  9]]\n",
      "정확도: 0.8571, 정밀도: 0.8182, 재현율: 0.8182, F1:0.8182\n",
      "임곗값: 0.45\n",
      "오차행렬\n",
      "[[15  2]\n",
      " [ 2  9]]\n",
      "정확도: 0.8571, 정밀도: 0.8182, 재현율: 0.8182, F1:0.8182\n",
      "임곗값: 0.5\n",
      "오차행렬\n",
      "[[15  2]\n",
      " [ 2  9]]\n",
      "정확도: 0.8571, 정밀도: 0.8182, 재현율: 0.8182, F1:0.8182\n",
      "임곗값: 0.55\n",
      "오차행렬\n",
      "[[15  2]\n",
      " [ 2  9]]\n",
      "정확도: 0.8571, 정밀도: 0.8182, 재현율: 0.8182, F1:0.8182\n",
      "임곗값: 0.6\n",
      "오차행렬\n",
      "[[15  2]\n",
      " [ 2  9]]\n",
      "정확도: 0.8571, 정밀도: 0.8182, 재현율: 0.8182, F1:0.8182\n"
     ]
    }
   ],
   "source": [
    "def get_clf_eval(y_test, dt_pred):\n",
    "    confusion = confusion_matrix(y_test, dt_pred)\n",
    "    accuracy = accuracy_score(y_test, dt_pred)\n",
    "    precision = precision_score(y_test, dt_pred)\n",
    "    recall = recall_score(y_test, dt_pred)\n",
    "    f1 = f1_score(y_test, dt_pred)\n",
    "    print('오차행렬')\n",
    "    print(confusion)\n",
    "    print('정확도: {0:.4f}, 정밀도: {1:.4f}, 재현율: {2:.4f}, F1:{3:.4f}'.format(accuracy, precision, recall, f1))\n",
    "\n",
    "thresholds = [0.4, 0.45, 0.5, 0.55, 0.6]\n",
    "pred_proba = lr_clf.predict_proba(X_test)\n",
    "\n",
    "get_eval_by_threshold(y_test, pred_proba[:, 1].reshape(-1, 1), thresholds)"
   ]
  },
  {
   "cell_type": "code",
   "execution_count": 37,
   "metadata": {},
   "outputs": [
    {
     "name": "stdout",
     "output_type": "stream",
     "text": [
      "샘플 추출을 위한 임곗값 배열의 index: [1]\n",
      "샘플 index로 추출한 임곗값:  [1.]\n",
      "샘플 임곗값별 FPR:  [0.059]\n",
      "샘플 임곗값별 TPR:  [0.909]\n"
     ]
    },
    {
     "name": "stderr",
     "output_type": "stream",
     "text": [
      "c:\\Users\\82104\\AppData\\Local\\Programs\\Python\\Python39\\lib\\site-packages\\sklearn\\base.py:443: UserWarning: X has feature names, but DecisionTreeClassifier was fitted without feature names\n",
      "  warnings.warn(\n"
     ]
    }
   ],
   "source": [
    "from sklearn.metrics import roc_curve\n",
    "\n",
    "# 레이블 값이 1일때의 예측 확률\n",
    "pred_proba_class1 = dt_clf.predict_proba(X_test)[:, 1]\n",
    "\n",
    "fprs, tprs, thresholds = roc_curve(y_test, pred_proba_class1)\n",
    "# thresholds[0]은 max(예측확률)+1로 임의 설정. 이를 제외하기 위해 np.arange는 1부터 시작\n",
    "thr_index = np.arange(1, thresholds.shape[0], 5)\n",
    "\n",
    "print('샘플 추출을 위한 임곗값 배열의 index:', thr_index)\n",
    "print('샘플 index로 추출한 임곗값: ', np.round(thresholds[thr_index], 2))\n",
    "\n",
    "print('샘플 임곗값별 FPR: ', np.round(fprs[thr_index], 3))\n",
    "print('샘플 임곗값별 TPR: ', np.round(tprs[thr_index], 3))"
   ]
  },
  {
   "cell_type": "code",
   "execution_count": 38,
   "metadata": {},
   "outputs": [
    {
     "data": {
      "image/png": "[encoded data removed]",
      "text/plain": [
       "<Figure size 432x288 with 1 Axes>"
      ]
     },
     "metadata": {
      "needs_background": "light"
     },
     "output_type": "display_data"
    }
   ],
   "source": [
    "def roc_curve_plot(y_test, pred_proba_c1):\n",
    "    # 임곗값에 따른 FPR, TPR 값\n",
    "    fprs, tprs, thresholds = roc_curve(y_test, pred_proba_c1)\n",
    "    # ROC 곡선\n",
    "    plt.plot(fprs, tprs, label=\"ROC\")\n",
    "    # 가운데 대각선 점선\n",
    "    plt.plot([0, 1], [0, 1], 'k--', label='Random')\n",
    "    \n",
    "    # FPR X 축의 Scale을 0.1 단위로 변경, X, Y축 명 설정\n",
    "    start, end = plt.xlim()\n",
    "    plt.xticks(np.round(np.arange(start, end, 0.1), 2))\n",
    "    plt.xlim(0, 1)\n",
    "    plt.ylim(0, 1)\n",
    "    plt.xlabel('FPR(1 - Sensitivity)')\n",
    "    plt.ylabel('TPR( Recall )')\n",
    "    plt.legend()\n",
    "\n",
    "roc_curve_plot(y_test, pred_proba[:, 1])"
   ]
  },
  {
   "cell_type": "code",
   "execution_count": 39,
   "metadata": {},
   "outputs": [
    {
     "name": "stdout",
     "output_type": "stream",
     "text": [
      "ROC AUC 값: 0.9251\n"
     ]
    },
    {
     "name": "stderr",
     "output_type": "stream",
     "text": [
      "c:\\Users\\82104\\AppData\\Local\\Programs\\Python\\Python39\\lib\\site-packages\\sklearn\\base.py:443: UserWarning: X has feature names, but DecisionTreeClassifier was fitted without feature names\n",
      "  warnings.warn(\n"
     ]
    }
   ],
   "source": [
    "from sklearn.metrics import roc_auc_score\n",
    "\n",
    "pred_proba = dt_clf.predict_proba(X_test)[:, 1]\n",
    "roc_score = roc_auc_score(y_test, pred_proba)\n",
    "print('ROC AUC 값: {0:.4f}'.format(roc_score))"
   ]
  },
  {
   "cell_type": "code",
   "execution_count": 41,
   "metadata": {},
   "outputs": [
    {
     "ename": "NameError",
     "evalue": "name 'kfold' is not defined",
     "output_type": "error",
     "traceback": [
      "\u001b[1;31m---------------------------------------------------------------------------\u001b[0m",
      "\u001b[1;31mNameError\u001b[0m                                 Traceback (most recent call last)",
      "\u001b[1;32mc:\\Users\\82104\\OneDrive\\바탕 화면\\vscode\\프로젝트1\\.git\\test\\프로젝트1\\tree.ipynb 셀 40\u001b[0m in \u001b[0;36m<cell line: 4>\u001b[1;34m()\u001b[0m\n\u001b[0;32m      <a href='vscode-notebook-cell:/c%3A/Users/82104/OneDrive/%EB%B0%94%ED%83%95%20%ED%99%94%EB%A9%B4/vscode/%ED%94%84%EB%A1%9C%EC%A0%9D%ED%8A%B81/.git/test/%ED%94%84%EB%A1%9C%EC%A0%9D%ED%8A%B81/tree.ipynb#X66sZmlsZQ%3D%3D?line=0'>1</a>\u001b[0m cv_accuracy \u001b[39m=\u001b[39m []\n\u001b[0;32m      <a href='vscode-notebook-cell:/c%3A/Users/82104/OneDrive/%EB%B0%94%ED%83%95%20%ED%99%94%EB%A9%B4/vscode/%ED%94%84%EB%A1%9C%EC%A0%9D%ED%8A%B81/.git/test/%ED%94%84%EB%A1%9C%EC%A0%9D%ED%8A%B81/tree.ipynb#X66sZmlsZQ%3D%3D?line=1'>2</a>\u001b[0m n_iter \u001b[39m=\u001b[39m \u001b[39m0\u001b[39m\n\u001b[1;32m----> <a href='vscode-notebook-cell:/c%3A/Users/82104/OneDrive/%EB%B0%94%ED%83%95%20%ED%99%94%EB%A9%B4/vscode/%ED%94%84%EB%A1%9C%EC%A0%9D%ED%8A%B81/.git/test/%ED%94%84%EB%A1%9C%EC%A0%9D%ED%8A%B81/tree.ipynb#X66sZmlsZQ%3D%3D?line=3'>4</a>\u001b[0m \u001b[39mfor\u001b[39;00m train_index, test_index \u001b[39min\u001b[39;00m kfold\u001b[39m.\u001b[39msplit(data):\n\u001b[0;32m      <a href='vscode-notebook-cell:/c%3A/Users/82104/OneDrive/%EB%B0%94%ED%83%95%20%ED%99%94%EB%A9%B4/vscode/%ED%94%84%EB%A1%9C%EC%A0%9D%ED%8A%B81/.git/test/%ED%94%84%EB%A1%9C%EC%A0%9D%ED%8A%B81/tree.ipynb#X66sZmlsZQ%3D%3D?line=4'>5</a>\u001b[0m     X_train, X_test \u001b[39m=\u001b[39m data\u001b[39m.\u001b[39miloc[train_index], data\u001b[39m.\u001b[39miloc[test_index]\n\u001b[0;32m      <a href='vscode-notebook-cell:/c%3A/Users/82104/OneDrive/%EB%B0%94%ED%83%95%20%ED%99%94%EB%A9%B4/vscode/%ED%94%84%EB%A1%9C%EC%A0%9D%ED%8A%B81/.git/test/%ED%94%84%EB%A1%9C%EC%A0%9D%ED%8A%B81/tree.ipynb#X66sZmlsZQ%3D%3D?line=5'>6</a>\u001b[0m     y_train, y_test \u001b[39m=\u001b[39m target\u001b[39m.\u001b[39miloc[train_index], target\u001b[39m.\u001b[39miloc[test_index]\n",
      "\u001b[1;31mNameError\u001b[0m: name 'kfold' is not defined"
     ]
    }
   ],
   "source": [
    "cv_accuracy = []\n",
    "n_iter = 0\n",
    "\n",
    "for train_index, test_index in kfold.split(data):\n",
    "    X_train, X_test = data.iloc[train_index], data.iloc[test_index]\n",
    "    y_train, y_test = target.iloc[train_index], target.iloc[test_index]\n",
    "    \n",
    "    dt_clf.fit(X_train, y_train)\n",
    "    pred = dt_clf.predict(X_test)\n",
    "    n_iter += 1\n",
    "    \n",
    "    accuracy = np.round(accuracy_score(y_test, pred), 4)\n",
    "    train_size = X_train.shape[0]\n",
    "    test_size = X_test.shape[0]\n",
    "    print('\\n#{0} 교차 검증 정확도 :{1}, 학습 데이터 크기: {2}, 검증데이터 크기: {3}'.format(n_iter, accuracy, train_size, test_size))\n",
    "    print('#{0} 검증 세트 인덱스:{1}'.format(n_iter, test_index))\n",
    "    \n",
    "    label_train = target.iloc[train_index]\n",
    "    label_test = target.iloc[test_index]\n",
    "    print('학습 레이블 데이터 분포:\\n', label_train.value_counts())\n",
    "    print('검증 레이블 데이터 분포:\\n', label_test.value_counts())\n",
    "    cv_accuracy.append(accuracy)\n",
    "    \n",
    "print('\\n## 평균 검증 정확도:', np.mean(cv_accuracy))"
   ]
  },
  {
   "cell_type": "code",
   "execution_count": 99,
   "metadata": {},
   "outputs": [
    {
     "data": {
      "text/html": [
       "<style>#sk-container-id-7 {color: black;background-color: white;}#sk-container-id-7 pre{padding: 0;}#sk-container-id-7 div.sk-toggleable {background-color: white;}#sk-container-id-7 label.sk-toggleable__label {cursor: pointer;display: block;width: 100%;margin-bottom: 0;padding: 0.3em;box-sizing: border-box;text-align: center;}#sk-container-id-7 label.sk-toggleable__label-arrow:before {content: \"▸\";float: left;margin-right: 0.25em;color: #696969;}#sk-container-id-7 label.sk-toggleable__label-arrow:hover:before {color: black;}#sk-container-id-7 div.sk-estimator:hover label.sk-toggleable__label-arrow:before {color: black;}#sk-container-id-7 div.sk-toggleable__content {max-height: 0;max-width: 0;overflow: hidden;text-align: left;background-color: #f0f8ff;}#sk-container-id-7 div.sk-toggleable__content pre {margin: 0.2em;color: black;border-radius: 0.25em;background-color: #f0f8ff;}#sk-container-id-7 input.sk-toggleable__control:checked~div.sk-toggleable__content {max-height: 200px;max-width: 100%;overflow: auto;}#sk-container-id-7 input.sk-toggleable__control:checked~label.sk-toggleable__label-arrow:before {content: \"▾\";}#sk-container-id-7 div.sk-estimator input.sk-toggleable__control:checked~label.sk-toggleable__label {background-color: #d4ebff;}#sk-container-id-7 div.sk-label input.sk-toggleable__control:checked~label.sk-toggleable__label {background-color: #d4ebff;}#sk-container-id-7 input.sk-hidden--visually {border: 0;clip: rect(1px 1px 1px 1px);clip: rect(1px, 1px, 1px, 1px);height: 1px;margin: -1px;overflow: hidden;padding: 0;position: absolute;width: 1px;}#sk-container-id-7 div.sk-estimator {font-family: monospace;background-color: #f0f8ff;border: 1px dotted black;border-radius: 0.25em;box-sizing: border-box;margin-bottom: 0.5em;}#sk-container-id-7 div.sk-estimator:hover {background-color: #d4ebff;}#sk-container-id-7 div.sk-parallel-item::after {content: \"\";width: 100%;border-bottom: 1px solid gray;flex-grow: 1;}#sk-container-id-7 div.sk-label:hover label.sk-toggleable__label {background-color: #d4ebff;}#sk-container-id-7 div.sk-serial::before {content: \"\";position: absolute;border-left: 1px solid gray;box-sizing: border-box;top: 0;bottom: 0;left: 50%;z-index: 0;}#sk-container-id-7 div.sk-serial {display: flex;flex-direction: column;align-items: center;background-color: white;padding-right: 0.2em;padding-left: 0.2em;position: relative;}#sk-container-id-7 div.sk-item {position: relative;z-index: 1;}#sk-container-id-7 div.sk-parallel {display: flex;align-items: stretch;justify-content: center;background-color: white;position: relative;}#sk-container-id-7 div.sk-item::before, #sk-container-id-7 div.sk-parallel-item::before {content: \"\";position: absolute;border-left: 1px solid gray;box-sizing: border-box;top: 0;bottom: 0;left: 50%;z-index: -1;}#sk-container-id-7 div.sk-parallel-item {display: flex;flex-direction: column;z-index: 1;position: relative;background-color: white;}#sk-container-id-7 div.sk-parallel-item:first-child::after {align-self: flex-end;width: 50%;}#sk-container-id-7 div.sk-parallel-item:last-child::after {align-self: flex-start;width: 50%;}#sk-container-id-7 div.sk-parallel-item:only-child::after {width: 0;}#sk-container-id-7 div.sk-dashed-wrapped {border: 1px dashed gray;margin: 0 0.4em 0.5em 0.4em;box-sizing: border-box;padding-bottom: 0.4em;background-color: white;}#sk-container-id-7 div.sk-label label {font-family: monospace;font-weight: bold;display: inline-block;line-height: 1.2em;}#sk-container-id-7 div.sk-label-container {text-align: center;}#sk-container-id-7 div.sk-container {/* jupyter's `normalize.less` sets `[hidden] { display: none; }` but bootstrap.min.css set `[hidden] { display: none !important; }` so we also need the `!important` here to be able to override the default hidden behavior on the sphinx rendered scikit-learn.org. See: https://github.com/scikit-learn/scikit-learn/issues/21755 */display: inline-block !important;position: relative;}#sk-container-id-7 div.sk-text-repr-fallback {display: none;}</style><div id=\"sk-container-id-7\" class=\"sk-top-container\"><div class=\"sk-text-repr-fallback\"><pre>XGBClassifier(base_score=0.5, booster=&#x27;gbtree&#x27;, callbacks=None,\n",
       "              colsample_bylevel=1, colsample_bynode=1, colsample_bytree=1,\n",
       "              early_stopping_rounds=None, enable_categorical=False,\n",
       "              eval_metric=None, gamma=0, gpu_id=-1, grow_policy=&#x27;depthwise&#x27;,\n",
       "              importance_type=None, interaction_constraints=&#x27;&#x27;,\n",
       "              learning_rate=0.300000012, max_bin=256, max_cat_to_onehot=4,\n",
       "              max_delta_step=0, max_depth=6, max_leaves=0, min_child_weight=1,\n",
       "              missing=nan, monotone_constraints=&#x27;()&#x27;, n_estimators=100,\n",
       "              n_jobs=0, num_parallel_tree=1, predictor=&#x27;auto&#x27;, random_state=11,\n",
       "              reg_alpha=0, reg_lambda=1, ...)</pre><b>In a Jupyter environment, please rerun this cell to show the HTML representation or trust the notebook. <br />On GitHub, the HTML representation is unable to render, please try loading this page with nbviewer.org.</b></div><div class=\"sk-container\" hidden><div class=\"sk-item\"><div class=\"sk-estimator sk-toggleable\"><input class=\"sk-toggleable__control sk-hidden--visually\" id=\"sk-estimator-id-7\" type=\"checkbox\" checked><label for=\"sk-estimator-id-7\" class=\"sk-toggleable__label sk-toggleable__label-arrow\">XGBClassifier</label><div class=\"sk-toggleable__content\"><pre>XGBClassifier(base_score=0.5, booster=&#x27;gbtree&#x27;, callbacks=None,\n",
       "              colsample_bylevel=1, colsample_bynode=1, colsample_bytree=1,\n",
       "              early_stopping_rounds=None, enable_categorical=False,\n",
       "              eval_metric=None, gamma=0, gpu_id=-1, grow_policy=&#x27;depthwise&#x27;,\n",
       "              importance_type=None, interaction_constraints=&#x27;&#x27;,\n",
       "              learning_rate=0.300000012, max_bin=256, max_cat_to_onehot=4,\n",
       "              max_delta_step=0, max_depth=6, max_leaves=0, min_child_weight=1,\n",
       "              missing=nan, monotone_constraints=&#x27;()&#x27;, n_estimators=100,\n",
       "              n_jobs=0, num_parallel_tree=1, predictor=&#x27;auto&#x27;, random_state=11,\n",
       "              reg_alpha=0, reg_lambda=1, ...)</pre></div></div></div></div></div>"
      ],
      "text/plain": [
       "XGBClassifier(base_score=0.5, booster='gbtree', callbacks=None,\n",
       "              colsample_bylevel=1, colsample_bynode=1, colsample_bytree=1,\n",
       "              early_stopping_rounds=None, enable_categorical=False,\n",
       "              eval_metric=None, gamma=0, gpu_id=-1, grow_policy='depthwise',\n",
       "              importance_type=None, interaction_constraints='',\n",
       "              learning_rate=0.300000012, max_bin=256, max_cat_to_onehot=4,\n",
       "              max_delta_step=0, max_depth=6, max_leaves=0, min_child_weight=1,\n",
       "              missing=nan, monotone_constraints='()', n_estimators=100,\n",
       "              n_jobs=0, num_parallel_tree=1, predictor='auto', random_state=11,\n",
       "              reg_alpha=0, reg_lambda=1, ...)"
      ]
     },
     "execution_count": 99,
     "metadata": {},
     "output_type": "execute_result"
    }
   ],
   "source": [
    "xg_clf.fit(X_train,y_train)"
   ]
  },
  {
   "cell_type": "code",
   "execution_count": 100,
   "metadata": {},
   "outputs": [],
   "source": [
    "X_predic = xg_clf.predict(X_test)"
   ]
  },
  {
   "cell_type": "code",
   "execution_count": 101,
   "metadata": {},
   "outputs": [
    {
     "name": "stdout",
     "output_type": "stream",
     "text": [
      "예측 정확도: 1.0000\n"
     ]
    }
   ],
   "source": [
    "print('예측 정확도: {0:.4f}'.format(accuracy_score(y_test, X_predic)))"
   ]
  },
  {
   "cell_type": "code",
   "execution_count": 102,
   "metadata": {},
   "outputs": [
    {
     "data": {
      "text/plain": [
       "array([0.6017201 , 0.05355098, 0.09718707, 0.14191923, 0.10562265],\n",
       "      dtype=float32)"
      ]
     },
     "execution_count": 102,
     "metadata": {},
     "output_type": "execute_result"
    }
   ],
   "source": [
    "xg_clf.feature_importances_"
   ]
  },
  {
   "cell_type": "code",
   "execution_count": 103,
   "metadata": {},
   "outputs": [
    {
     "data": {
      "text/plain": [
       "<AxesSubplot:title={'center':'피처중요도'}>"
      ]
     },
     "execution_count": 103,
     "metadata": {},
     "output_type": "execute_result"
    },
    {
     "data": {
      "image/png": "[encoded data removed]",
      "text/plain": [
       "<Figure size 432x288 with 1 Axes>"
      ]
     },
     "metadata": {
      "needs_background": "light"
     },
     "output_type": "display_data"
    }
   ],
   "source": [
    "# 피처 중요도 시각화\n",
    "import seaborn as sns\n",
    "import matplotlib.pyplot as plt\n",
    "\n",
    "plt.rcParams['axes.unicode_minus'] = False\n",
    "plt.rcParams[\"font.family\"] = \"Malgun Gothic\"\n",
    "\n",
    "plt.title(\"피처중요도\")\n",
    "sns.barplot(x=xg_clf.feature_importances_, y=data.columns)"
   ]
  },
  {
   "cell_type": "code",
   "execution_count": 104,
   "metadata": {},
   "outputs": [
    {
     "data": {
      "text/html": [
       "<style>#sk-container-id-8 {color: black;background-color: white;}#sk-container-id-8 pre{padding: 0;}#sk-container-id-8 div.sk-toggleable {background-color: white;}#sk-container-id-8 label.sk-toggleable__label {cursor: pointer;display: block;width: 100%;margin-bottom: 0;padding: 0.3em;box-sizing: border-box;text-align: center;}#sk-container-id-8 label.sk-toggleable__label-arrow:before {content: \"▸\";float: left;margin-right: 0.25em;color: #696969;}#sk-container-id-8 label.sk-toggleable__label-arrow:hover:before {color: black;}#sk-container-id-8 div.sk-estimator:hover label.sk-toggleable__label-arrow:before {color: black;}#sk-container-id-8 div.sk-toggleable__content {max-height: 0;max-width: 0;overflow: hidden;text-align: left;background-color: #f0f8ff;}#sk-container-id-8 div.sk-toggleable__content pre {margin: 0.2em;color: black;border-radius: 0.25em;background-color: #f0f8ff;}#sk-container-id-8 input.sk-toggleable__control:checked~div.sk-toggleable__content {max-height: 200px;max-width: 100%;overflow: auto;}#sk-container-id-8 input.sk-toggleable__control:checked~label.sk-toggleable__label-arrow:before {content: \"▾\";}#sk-container-id-8 div.sk-estimator input.sk-toggleable__control:checked~label.sk-toggleable__label {background-color: #d4ebff;}#sk-container-id-8 div.sk-label input.sk-toggleable__control:checked~label.sk-toggleable__label {background-color: #d4ebff;}#sk-container-id-8 input.sk-hidden--visually {border: 0;clip: rect(1px 1px 1px 1px);clip: rect(1px, 1px, 1px, 1px);height: 1px;margin: -1px;overflow: hidden;padding: 0;position: absolute;width: 1px;}#sk-container-id-8 div.sk-estimator {font-family: monospace;background-color: #f0f8ff;border: 1px dotted black;border-radius: 0.25em;box-sizing: border-box;margin-bottom: 0.5em;}#sk-container-id-8 div.sk-estimator:hover {background-color: #d4ebff;}#sk-container-id-8 div.sk-parallel-item::after {content: \"\";width: 100%;border-bottom: 1px solid gray;flex-grow: 1;}#sk-container-id-8 div.sk-label:hover label.sk-toggleable__label {background-color: #d4ebff;}#sk-container-id-8 div.sk-serial::before {content: \"\";position: absolute;border-left: 1px solid gray;box-sizing: border-box;top: 0;bottom: 0;left: 50%;z-index: 0;}#sk-container-id-8 div.sk-serial {display: flex;flex-direction: column;align-items: center;background-color: white;padding-right: 0.2em;padding-left: 0.2em;position: relative;}#sk-container-id-8 div.sk-item {position: relative;z-index: 1;}#sk-container-id-8 div.sk-parallel {display: flex;align-items: stretch;justify-content: center;background-color: white;position: relative;}#sk-container-id-8 div.sk-item::before, #sk-container-id-8 div.sk-parallel-item::before {content: \"\";position: absolute;border-left: 1px solid gray;box-sizing: border-box;top: 0;bottom: 0;left: 50%;z-index: -1;}#sk-container-id-8 div.sk-parallel-item {display: flex;flex-direction: column;z-index: 1;position: relative;background-color: white;}#sk-container-id-8 div.sk-parallel-item:first-child::after {align-self: flex-end;width: 50%;}#sk-container-id-8 div.sk-parallel-item:last-child::after {align-self: flex-start;width: 50%;}#sk-container-id-8 div.sk-parallel-item:only-child::after {width: 0;}#sk-container-id-8 div.sk-dashed-wrapped {border: 1px dashed gray;margin: 0 0.4em 0.5em 0.4em;box-sizing: border-box;padding-bottom: 0.4em;background-color: white;}#sk-container-id-8 div.sk-label label {font-family: monospace;font-weight: bold;display: inline-block;line-height: 1.2em;}#sk-container-id-8 div.sk-label-container {text-align: center;}#sk-container-id-8 div.sk-container {/* jupyter's `normalize.less` sets `[hidden] { display: none; }` but bootstrap.min.css set `[hidden] { display: none !important; }` so we also need the `!important` here to be able to override the default hidden behavior on the sphinx rendered scikit-learn.org. See: https://github.com/scikit-learn/scikit-learn/issues/21755 */display: inline-block !important;position: relative;}#sk-container-id-8 div.sk-text-repr-fallback {display: none;}</style><div id=\"sk-container-id-8\" class=\"sk-top-container\"><div class=\"sk-text-repr-fallback\"><pre>RandomForestClassifier(random_state=11)</pre><b>In a Jupyter environment, please rerun this cell to show the HTML representation or trust the notebook. <br />On GitHub, the HTML representation is unable to render, please try loading this page with nbviewer.org.</b></div><div class=\"sk-container\" hidden><div class=\"sk-item\"><div class=\"sk-estimator sk-toggleable\"><input class=\"sk-toggleable__control sk-hidden--visually\" id=\"sk-estimator-id-8\" type=\"checkbox\" checked><label for=\"sk-estimator-id-8\" class=\"sk-toggleable__label sk-toggleable__label-arrow\">RandomForestClassifier</label><div class=\"sk-toggleable__content\"><pre>RandomForestClassifier(random_state=11)</pre></div></div></div></div></div>"
      ],
      "text/plain": [
       "RandomForestClassifier(random_state=11)"
      ]
     },
     "execution_count": 104,
     "metadata": {},
     "output_type": "execute_result"
    }
   ],
   "source": [
    "ra_clf = RandomForestClassifier(random_state=11)\n",
    "ra_clf.fit(X_train, y_train)"
   ]
  },
  {
   "cell_type": "code",
   "execution_count": 105,
   "metadata": {},
   "outputs": [],
   "source": [
    "ra_X_predic = ra_clf.predict(X_test)"
   ]
  },
  {
   "cell_type": "code",
   "execution_count": 106,
   "metadata": {},
   "outputs": [
    {
     "name": "stdout",
     "output_type": "stream",
     "text": [
      "예측 정확도: 0.8214\n"
     ]
    }
   ],
   "source": [
    "print('예측 정확도: {0:.4f}'.format(accuracy_score(y_test, ra_X_predic)))"
   ]
  },
  {
   "cell_type": "code",
   "execution_count": 112,
   "metadata": {},
   "outputs": [],
   "source": [
    "from sklearn.ensemble import RandomForestClassifier\n",
    "from sklearn.tree import export_graphviz\n",
    "model = RandomForestClassifier()\n",
    "model.fit(X_train, y_train)\n",
    "\n",
    "\n",
    "estimator = model.estimators_[3]\n",
    "\n",
    "export_graphviz(estimator, out_file='tree.dot', \n",
    "                max_depth = 3, # 표현하고 싶은 최대 depth\n",
    "                precision = 3, # 소수점 표기 자릿수\n",
    "                filled = True, # class별 color 채우기\n",
    "                rounded=True, # 박스의 모양을 둥글게\n",
    "               )"
   ]
  },
  {
   "cell_type": "code",
   "execution_count": 116,
   "metadata": {},
   "outputs": [],
   "source": [
    "from sklearn.tree import export_graphviz\n",
    "\n",
    "export_graphviz(dt_clf,out_file='tree1.dot', impurity=\n",
    "               True , filled=True)"
   ]
  },
  {
   "cell_type": "code",
   "execution_count": 117,
   "metadata": {},
   "outputs": [
    {
     "data": {
      "image/svg+xml": "<?xml version=\"1.0\" encoding=\"UTF-8\" standalone=\"no\"?>\n<!DOCTYPE svg PUBLIC \"-//W3C//DTD SVG 1.1//EN\"\n \"http://www.w3.org/Graphics/SVG/1.1/DTD/svg11.dtd\">\n<!-- Generated by graphviz version 4.0.0 (20220529.0937)\n -->\n<!-- Title: Tree Pages: 1 -->\n<svg width=\"617pt\" height=\"685pt\"\n viewBox=\"0.00 0.00 617.00 685.00\" xmlns=\"http://www.w3.org/2000/svg\" xmlns:xlink=\"http://www.w3.org/1999/xlink\">\n<g id=\"graph0\" class=\"graph\" transform=\"scale(1 1) rotate(0) translate(4 681)\">\n<title>Tree</title>\n<polygon fill=\"white\" stroke=\"transparent\" points=\"-4,4 -4,-681 613,-681 613,4 -4,4\"/>\n<!-- 0 -->\n<g id=\"node1\" class=\"node\">\n<title>0</title>\n<polygon fill=\"#f0b58b\" stroke=\"black\" points=\"345,-677 232,-677 232,-609 345,-609 345,-677\"/>\n<text text-anchor=\"middle\" x=\"288.5\" y=\"-661.8\" font-family=\"Helvetica,sans-Serif\" font-size=\"14.00\">X[0] &lt;= 3.55</text>\n<text text-anchor=\"middle\" x=\"288.5\" y=\"-646.8\" font-family=\"Helvetica,sans-Serif\" font-size=\"14.00\">gini = 0.415</text>\n<text text-anchor=\"middle\" x=\"288.5\" y=\"-631.8\" font-family=\"Helvetica,sans-Serif\" font-size=\"14.00\">samples = 119</text>\n<text text-anchor=\"middle\" x=\"288.5\" y=\"-616.8\" font-family=\"Helvetica,sans-Serif\" font-size=\"14.00\">value = [84, 35]</text>\n</g>\n<!-- 1 -->\n<g id=\"node2\" class=\"node\">\n<title>1</title>\n<polygon fill=\"#e78d4b\" stroke=\"black\" points=\"279,-573 174,-573 174,-505 279,-505 279,-573\"/>\n<text text-anchor=\"middle\" x=\"226.5\" y=\"-557.8\" font-family=\"Helvetica,sans-Serif\" font-size=\"14.00\">X[0] &lt;= 0.2</text>\n<text text-anchor=\"middle\" x=\"226.5\" y=\"-542.8\" font-family=\"Helvetica,sans-Serif\" font-size=\"14.00\">gini = 0.154</text>\n<text text-anchor=\"middle\" x=\"226.5\" y=\"-527.8\" font-family=\"Helvetica,sans-Serif\" font-size=\"14.00\">samples = 83</text>\n<text text-anchor=\"middle\" x=\"226.5\" y=\"-512.8\" font-family=\"Helvetica,sans-Serif\" font-size=\"14.00\">value = [76, 7]</text>\n</g>\n<!-- 0&#45;&gt;1 -->\n<g id=\"edge1\" class=\"edge\">\n<title>0&#45;&gt;1</title>\n<path fill=\"none\" stroke=\"black\" d=\"M268.37,-608.88C263.17,-600.33 257.51,-591.01 252.07,-582.07\"/>\n<polygon fill=\"black\" stroke=\"black\" points=\"254.93,-580.03 246.74,-573.3 248.94,-583.66 254.93,-580.03\"/>\n<text text-anchor=\"middle\" x=\"240.82\" y=\"-593.89\" font-family=\"Helvetica,sans-Serif\" font-size=\"14.00\">True</text>\n</g>\n<!-- 12 -->\n<g id=\"node13\" class=\"node\">\n<title>12</title>\n<polygon fill=\"#72b9ec\" stroke=\"black\" points=\"404,-573 297,-573 297,-505 404,-505 404,-573\"/>\n<text text-anchor=\"middle\" x=\"350.5\" y=\"-557.8\" font-family=\"Helvetica,sans-Serif\" font-size=\"14.00\">X[1] &lt;= &#45;0.015</text>\n<text text-anchor=\"middle\" x=\"350.5\" y=\"-542.8\" font-family=\"Helvetica,sans-Serif\" font-size=\"14.00\">gini = 0.346</text>\n<text text-anchor=\"middle\" x=\"350.5\" y=\"-527.8\" font-family=\"Helvetica,sans-Serif\" font-size=\"14.00\">samples = 36</text>\n<text text-anchor=\"middle\" x=\"350.5\" y=\"-512.8\" font-family=\"Helvetica,sans-Serif\" font-size=\"14.00\">value = [8, 28]</text>\n</g>\n<!-- 0&#45;&gt;12 -->\n<g id=\"edge12\" class=\"edge\">\n<title>0&#45;&gt;12</title>\n<path fill=\"none\" stroke=\"black\" d=\"M308.63,-608.88C313.83,-600.33 319.49,-591.01 324.93,-582.07\"/>\n<polygon fill=\"black\" stroke=\"black\" points=\"328.06,-583.66 330.26,-573.3 322.07,-580.03 328.06,-583.66\"/>\n<text text-anchor=\"middle\" x=\"336.18\" y=\"-593.89\" font-family=\"Helvetica,sans-Serif\" font-size=\"14.00\">False</text>\n</g>\n<!-- 2 -->\n<g id=\"node3\" class=\"node\">\n<title>2</title>\n<polygon fill=\"#e58139\" stroke=\"black\" points=\"158,-461.5 53,-461.5 53,-408.5 158,-408.5 158,-461.5\"/>\n<text text-anchor=\"middle\" x=\"105.5\" y=\"-446.3\" font-family=\"Helvetica,sans-Serif\" font-size=\"14.00\">gini = 0.0</text>\n<text text-anchor=\"middle\" x=\"105.5\" y=\"-431.3\" font-family=\"Helvetica,sans-Serif\" font-size=\"14.00\">samples = 60</text>\n<text text-anchor=\"middle\" x=\"105.5\" y=\"-416.3\" font-family=\"Helvetica,sans-Serif\" font-size=\"14.00\">value = [60, 0]</text>\n</g>\n<!-- 1&#45;&gt;2 -->\n<g id=\"edge2\" class=\"edge\">\n<title>1&#45;&gt;2</title>\n<path fill=\"none\" stroke=\"black\" d=\"M187.21,-504.88C173.26,-493.12 157.57,-479.89 143.7,-468.2\"/>\n<polygon fill=\"black\" stroke=\"black\" points=\"145.68,-465.29 135.77,-461.52 141.16,-470.64 145.68,-465.29\"/>\n</g>\n<!-- 3 -->\n<g id=\"node4\" class=\"node\">\n<title>3</title>\n<polygon fill=\"#f0b890\" stroke=\"black\" points=\"281,-469 176,-469 176,-401 281,-401 281,-469\"/>\n<text text-anchor=\"middle\" x=\"228.5\" y=\"-453.8\" font-family=\"Helvetica,sans-Serif\" font-size=\"14.00\">X[4] &lt;= 0.5</text>\n<text text-anchor=\"middle\" x=\"228.5\" y=\"-438.8\" font-family=\"Helvetica,sans-Serif\" font-size=\"14.00\">gini = 0.423</text>\n<text text-anchor=\"middle\" x=\"228.5\" y=\"-423.8\" font-family=\"Helvetica,sans-Serif\" font-size=\"14.00\">samples = 23</text>\n<text text-anchor=\"middle\" x=\"228.5\" y=\"-408.8\" font-family=\"Helvetica,sans-Serif\" font-size=\"14.00\">value = [16, 7]</text>\n</g>\n<!-- 1&#45;&gt;3 -->\n<g id=\"edge3\" class=\"edge\">\n<title>1&#45;&gt;3</title>\n<path fill=\"none\" stroke=\"black\" d=\"M227.15,-504.88C227.31,-496.78 227.48,-487.98 227.65,-479.47\"/>\n<polygon fill=\"black\" stroke=\"black\" points=\"231.15,-479.37 227.85,-469.3 224.15,-479.23 231.15,-479.37\"/>\n</g>\n<!-- 4 -->\n<g id=\"node5\" class=\"node\">\n<title>4</title>\n<polygon fill=\"#ea995e\" stroke=\"black\" points=\"194,-365 89,-365 89,-297 194,-297 194,-365\"/>\n<text text-anchor=\"middle\" x=\"141.5\" y=\"-349.8\" font-family=\"Helvetica,sans-Serif\" font-size=\"14.00\">X[2] &lt;= 0.038</text>\n<text text-anchor=\"middle\" x=\"141.5\" y=\"-334.8\" font-family=\"Helvetica,sans-Serif\" font-size=\"14.00\">gini = 0.266</text>\n<text text-anchor=\"middle\" x=\"141.5\" y=\"-319.8\" font-family=\"Helvetica,sans-Serif\" font-size=\"14.00\">samples = 19</text>\n<text text-anchor=\"middle\" x=\"141.5\" y=\"-304.8\" font-family=\"Helvetica,sans-Serif\" font-size=\"14.00\">value = [16, 3]</text>\n</g>\n<!-- 3&#45;&gt;4 -->\n<g id=\"edge4\" class=\"edge\">\n<title>3&#45;&gt;4</title>\n<path fill=\"none\" stroke=\"black\" d=\"M200.25,-400.88C192.66,-391.98 184.35,-382.24 176.43,-372.96\"/>\n<polygon fill=\"black\" stroke=\"black\" points=\"179.05,-370.64 169.9,-365.3 173.73,-375.18 179.05,-370.64\"/>\n</g>\n<!-- 11 -->\n<g id=\"node12\" class=\"node\">\n<title>11</title>\n<polygon fill=\"#399de5\" stroke=\"black\" points=\"309,-357.5 212,-357.5 212,-304.5 309,-304.5 309,-357.5\"/>\n<text text-anchor=\"middle\" x=\"260.5\" y=\"-342.3\" font-family=\"Helvetica,sans-Serif\" font-size=\"14.00\">gini = 0.0</text>\n<text text-anchor=\"middle\" x=\"260.5\" y=\"-327.3\" font-family=\"Helvetica,sans-Serif\" font-size=\"14.00\">samples = 4</text>\n<text text-anchor=\"middle\" x=\"260.5\" y=\"-312.3\" font-family=\"Helvetica,sans-Serif\" font-size=\"14.00\">value = [0, 4]</text>\n</g>\n<!-- 3&#45;&gt;11 -->\n<g id=\"edge11\" class=\"edge\">\n<title>3&#45;&gt;11</title>\n<path fill=\"none\" stroke=\"black\" d=\"M238.89,-400.88C242.27,-390.11 246.03,-378.11 249.46,-367.18\"/>\n<polygon fill=\"black\" stroke=\"black\" points=\"252.84,-368.11 252.49,-357.52 246.16,-366.01 252.84,-368.11\"/>\n</g>\n<!-- 5 -->\n<g id=\"node6\" class=\"node\">\n<title>5</title>\n<polygon fill=\"#e78945\" stroke=\"black\" points=\"166,-261 61,-261 61,-193 166,-193 166,-261\"/>\n<text text-anchor=\"middle\" x=\"113.5\" y=\"-245.8\" font-family=\"Helvetica,sans-Serif\" font-size=\"14.00\">X[2] &lt;= 0.005</text>\n<text text-anchor=\"middle\" x=\"113.5\" y=\"-230.8\" font-family=\"Helvetica,sans-Serif\" font-size=\"14.00\">gini = 0.111</text>\n<text text-anchor=\"middle\" x=\"113.5\" y=\"-215.8\" font-family=\"Helvetica,sans-Serif\" font-size=\"14.00\">samples = 17</text>\n<text text-anchor=\"middle\" x=\"113.5\" y=\"-200.8\" font-family=\"Helvetica,sans-Serif\" font-size=\"14.00\">value = [16, 1]</text>\n</g>\n<!-- 4&#45;&gt;5 -->\n<g id=\"edge5\" class=\"edge\">\n<title>4&#45;&gt;5</title>\n<path fill=\"none\" stroke=\"black\" d=\"M132.41,-296.88C130.16,-288.69 127.72,-279.79 125.36,-271.19\"/>\n<polygon fill=\"black\" stroke=\"black\" points=\"128.66,-270.02 122.64,-261.3 121.91,-271.87 128.66,-270.02\"/>\n</g>\n<!-- 10 -->\n<g id=\"node11\" class=\"node\">\n<title>10</title>\n<polygon fill=\"#399de5\" stroke=\"black\" points=\"281,-253.5 184,-253.5 184,-200.5 281,-200.5 281,-253.5\"/>\n<text text-anchor=\"middle\" x=\"232.5\" y=\"-238.3\" font-family=\"Helvetica,sans-Serif\" font-size=\"14.00\">gini = 0.0</text>\n<text text-anchor=\"middle\" x=\"232.5\" y=\"-223.3\" font-family=\"Helvetica,sans-Serif\" font-size=\"14.00\">samples = 2</text>\n<text text-anchor=\"middle\" x=\"232.5\" y=\"-208.3\" font-family=\"Helvetica,sans-Serif\" font-size=\"14.00\">value = [0, 2]</text>\n</g>\n<!-- 4&#45;&gt;10 -->\n<g id=\"edge10\" class=\"edge\">\n<title>4&#45;&gt;10</title>\n<path fill=\"none\" stroke=\"black\" d=\"M171.05,-296.88C181.25,-285.45 192.68,-272.63 202.89,-261.19\"/>\n<polygon fill=\"black\" stroke=\"black\" points=\"205.69,-263.31 209.73,-253.52 200.46,-258.65 205.69,-263.31\"/>\n</g>\n<!-- 6 -->\n<g id=\"node7\" class=\"node\">\n<title>6</title>\n<polygon fill=\"#e58139\" stroke=\"black\" points=\"105,-149.5 0,-149.5 0,-96.5 105,-96.5 105,-149.5\"/>\n<text text-anchor=\"middle\" x=\"52.5\" y=\"-134.3\" font-family=\"Helvetica,sans-Serif\" font-size=\"14.00\">gini = 0.0</text>\n<text text-anchor=\"middle\" x=\"52.5\" y=\"-119.3\" font-family=\"Helvetica,sans-Serif\" font-size=\"14.00\">samples = 13</text>\n<text text-anchor=\"middle\" x=\"52.5\" y=\"-104.3\" font-family=\"Helvetica,sans-Serif\" font-size=\"14.00\">value = [13, 0]</text>\n</g>\n<!-- 5&#45;&gt;6 -->\n<g id=\"edge6\" class=\"edge\">\n<title>5&#45;&gt;6</title>\n<path fill=\"none\" stroke=\"black\" d=\"M93.7,-192.88C87.05,-181.78 79.63,-169.37 72.94,-158.18\"/>\n<polygon fill=\"black\" stroke=\"black\" points=\"75.9,-156.31 67.76,-149.52 69.89,-159.9 75.9,-156.31\"/>\n</g>\n<!-- 7 -->\n<g id=\"node8\" class=\"node\">\n<title>7</title>\n<polygon fill=\"#eeab7b\" stroke=\"black\" points=\"226,-157 123,-157 123,-89 226,-89 226,-157\"/>\n<text text-anchor=\"middle\" x=\"174.5\" y=\"-141.8\" font-family=\"Helvetica,sans-Serif\" font-size=\"14.00\">X[2] &lt;= 0.016</text>\n<text text-anchor=\"middle\" x=\"174.5\" y=\"-126.8\" font-family=\"Helvetica,sans-Serif\" font-size=\"14.00\">gini = 0.375</text>\n<text text-anchor=\"middle\" x=\"174.5\" y=\"-111.8\" font-family=\"Helvetica,sans-Serif\" font-size=\"14.00\">samples = 4</text>\n<text text-anchor=\"middle\" x=\"174.5\" y=\"-96.8\" font-family=\"Helvetica,sans-Serif\" font-size=\"14.00\">value = [3, 1]</text>\n</g>\n<!-- 5&#45;&gt;7 -->\n<g id=\"edge7\" class=\"edge\">\n<title>5&#45;&gt;7</title>\n<path fill=\"none\" stroke=\"black\" d=\"M133.3,-192.88C138.42,-184.33 143.99,-175.01 149.34,-166.07\"/>\n<polygon fill=\"black\" stroke=\"black\" points=\"152.46,-167.68 154.59,-157.3 146.45,-164.09 152.46,-167.68\"/>\n</g>\n<!-- 8 -->\n<g id=\"node9\" class=\"node\">\n<title>8</title>\n<polygon fill=\"#399de5\" stroke=\"black\" points=\"165,-53 68,-53 68,0 165,0 165,-53\"/>\n<text text-anchor=\"middle\" x=\"116.5\" y=\"-37.8\" font-family=\"Helvetica,sans-Serif\" font-size=\"14.00\">gini = 0.0</text>\n<text text-anchor=\"middle\" x=\"116.5\" y=\"-22.8\" font-family=\"Helvetica,sans-Serif\" font-size=\"14.00\">samples = 1</text>\n<text text-anchor=\"middle\" x=\"116.5\" y=\"-7.8\" font-family=\"Helvetica,sans-Serif\" font-size=\"14.00\">value = [0, 1]</text>\n</g>\n<!-- 7&#45;&gt;8 -->\n<g id=\"edge8\" class=\"edge\">\n<title>7&#45;&gt;8</title>\n<path fill=\"none\" stroke=\"black\" d=\"M154.21,-88.95C148.82,-80.17 142.99,-70.66 137.56,-61.82\"/>\n<polygon fill=\"black\" stroke=\"black\" points=\"140.51,-59.93 132.3,-53.24 134.54,-63.59 140.51,-59.93\"/>\n</g>\n<!-- 9 -->\n<g id=\"node10\" class=\"node\">\n<title>9</title>\n<polygon fill=\"#e58139\" stroke=\"black\" points=\"280,-53 183,-53 183,0 280,0 280,-53\"/>\n<text text-anchor=\"middle\" x=\"231.5\" y=\"-37.8\" font-family=\"Helvetica,sans-Serif\" font-size=\"14.00\">gini = 0.0</text>\n<text text-anchor=\"middle\" x=\"231.5\" y=\"-22.8\" font-family=\"Helvetica,sans-Serif\" font-size=\"14.00\">samples = 3</text>\n<text text-anchor=\"middle\" x=\"231.5\" y=\"-7.8\" font-family=\"Helvetica,sans-Serif\" font-size=\"14.00\">value = [3, 0]</text>\n</g>\n<!-- 7&#45;&gt;9 -->\n<g id=\"edge9\" class=\"edge\">\n<title>7&#45;&gt;9</title>\n<path fill=\"none\" stroke=\"black\" d=\"M194.44,-88.95C199.73,-80.17 205.47,-70.66 210.8,-61.82\"/>\n<polygon fill=\"black\" stroke=\"black\" points=\"213.81,-63.61 215.98,-53.24 207.81,-59.99 213.81,-63.61\"/>\n</g>\n<!-- 13 -->\n<g id=\"node14\" class=\"node\">\n<title>13</title>\n<polygon fill=\"#e58139\" stroke=\"black\" points=\"398,-461.5 301,-461.5 301,-408.5 398,-408.5 398,-461.5\"/>\n<text text-anchor=\"middle\" x=\"349.5\" y=\"-446.3\" font-family=\"Helvetica,sans-Serif\" font-size=\"14.00\">gini = 0.0</text>\n<text text-anchor=\"middle\" x=\"349.5\" y=\"-431.3\" font-family=\"Helvetica,sans-Serif\" font-size=\"14.00\">samples = 4</text>\n<text text-anchor=\"middle\" x=\"349.5\" y=\"-416.3\" font-family=\"Helvetica,sans-Serif\" font-size=\"14.00\">value = [4, 0]</text>\n</g>\n<!-- 12&#45;&gt;13 -->\n<g id=\"edge13\" class=\"edge\">\n<title>12&#45;&gt;13</title>\n<path fill=\"none\" stroke=\"black\" d=\"M350.18,-504.88C350.07,-494.33 349.96,-482.6 349.85,-471.85\"/>\n<polygon fill=\"black\" stroke=\"black\" points=\"353.35,-471.49 349.75,-461.52 346.35,-471.55 353.35,-471.49\"/>\n</g>\n<!-- 14 -->\n<g id=\"node15\" class=\"node\">\n<title>14</title>\n<polygon fill=\"#55abe9\" stroke=\"black\" points=\"523,-469 416,-469 416,-401 523,-401 523,-469\"/>\n<text text-anchor=\"middle\" x=\"469.5\" y=\"-453.8\" font-family=\"Helvetica,sans-Serif\" font-size=\"14.00\">X[2] &lt;= &#45;0.006</text>\n<text text-anchor=\"middle\" x=\"469.5\" y=\"-438.8\" font-family=\"Helvetica,sans-Serif\" font-size=\"14.00\">gini = 0.219</text>\n<text text-anchor=\"middle\" x=\"469.5\" y=\"-423.8\" font-family=\"Helvetica,sans-Serif\" font-size=\"14.00\">samples = 32</text>\n<text text-anchor=\"middle\" x=\"469.5\" y=\"-408.8\" font-family=\"Helvetica,sans-Serif\" font-size=\"14.00\">value = [4, 28]</text>\n</g>\n<!-- 12&#45;&gt;14 -->\n<g id=\"edge14\" class=\"edge\">\n<title>12&#45;&gt;14</title>\n<path fill=\"none\" stroke=\"black\" d=\"M389.14,-504.88C399.94,-495.62 411.8,-485.45 423.01,-475.85\"/>\n<polygon fill=\"black\" stroke=\"black\" points=\"425.34,-478.46 430.65,-469.3 420.78,-473.15 425.34,-478.46\"/>\n</g>\n<!-- 15 -->\n<g id=\"node16\" class=\"node\">\n<title>15</title>\n<polygon fill=\"#ffffff\" stroke=\"black\" points=\"486,-365 383,-365 383,-297 486,-297 486,-365\"/>\n<text text-anchor=\"middle\" x=\"434.5\" y=\"-349.8\" font-family=\"Helvetica,sans-Serif\" font-size=\"14.00\">X[3] &lt;= 3.837</text>\n<text text-anchor=\"middle\" x=\"434.5\" y=\"-334.8\" font-family=\"Helvetica,sans-Serif\" font-size=\"14.00\">gini = 0.5</text>\n<text text-anchor=\"middle\" x=\"434.5\" y=\"-319.8\" font-family=\"Helvetica,sans-Serif\" font-size=\"14.00\">samples = 8</text>\n<text text-anchor=\"middle\" x=\"434.5\" y=\"-304.8\" font-family=\"Helvetica,sans-Serif\" font-size=\"14.00\">value = [4, 4]</text>\n</g>\n<!-- 14&#45;&gt;15 -->\n<g id=\"edge15\" class=\"edge\">\n<title>14&#45;&gt;15</title>\n<path fill=\"none\" stroke=\"black\" d=\"M458.14,-400.88C455.29,-392.6 452.2,-383.6 449.22,-374.91\"/>\n<polygon fill=\"black\" stroke=\"black\" points=\"452.48,-373.62 445.93,-365.3 445.86,-375.89 452.48,-373.62\"/>\n</g>\n<!-- 18 -->\n<g id=\"node19\" class=\"node\">\n<title>18</title>\n<polygon fill=\"#399de5\" stroke=\"black\" points=\"609,-357.5 504,-357.5 504,-304.5 609,-304.5 609,-357.5\"/>\n<text text-anchor=\"middle\" x=\"556.5\" y=\"-342.3\" font-family=\"Helvetica,sans-Serif\" font-size=\"14.00\">gini = 0.0</text>\n<text text-anchor=\"middle\" x=\"556.5\" y=\"-327.3\" font-family=\"Helvetica,sans-Serif\" font-size=\"14.00\">samples = 24</text>\n<text text-anchor=\"middle\" x=\"556.5\" y=\"-312.3\" font-family=\"Helvetica,sans-Serif\" font-size=\"14.00\">value = [0, 24]</text>\n</g>\n<!-- 14&#45;&gt;18 -->\n<g id=\"edge18\" class=\"edge\">\n<title>14&#45;&gt;18</title>\n<path fill=\"none\" stroke=\"black\" d=\"M497.75,-400.88C507.5,-389.45 518.43,-376.63 528.19,-365.19\"/>\n<polygon fill=\"black\" stroke=\"black\" points=\"530.91,-367.4 534.73,-357.52 525.58,-362.86 530.91,-367.4\"/>\n</g>\n<!-- 16 -->\n<g id=\"node17\" class=\"node\">\n<title>16</title>\n<polygon fill=\"#e58139\" stroke=\"black\" points=\"439,-253.5 342,-253.5 342,-200.5 439,-200.5 439,-253.5\"/>\n<text text-anchor=\"middle\" x=\"390.5\" y=\"-238.3\" font-family=\"Helvetica,sans-Serif\" font-size=\"14.00\">gini = 0.0</text>\n<text text-anchor=\"middle\" x=\"390.5\" y=\"-223.3\" font-family=\"Helvetica,sans-Serif\" font-size=\"14.00\">samples = 4</text>\n<text text-anchor=\"middle\" x=\"390.5\" y=\"-208.3\" font-family=\"Helvetica,sans-Serif\" font-size=\"14.00\">value = [4, 0]</text>\n</g>\n<!-- 15&#45;&gt;16 -->\n<g id=\"edge16\" class=\"edge\">\n<title>15&#45;&gt;16</title>\n<path fill=\"none\" stroke=\"black\" d=\"M420.21,-296.88C415.52,-286 410.28,-273.86 405.53,-262.85\"/>\n<polygon fill=\"black\" stroke=\"black\" points=\"408.68,-261.32 401.51,-253.52 402.26,-264.09 408.68,-261.32\"/>\n</g>\n<!-- 17 -->\n<g id=\"node18\" class=\"node\">\n<title>17</title>\n<polygon fill=\"#399de5\" stroke=\"black\" points=\"554,-253.5 457,-253.5 457,-200.5 554,-200.5 554,-253.5\"/>\n<text text-anchor=\"middle\" x=\"505.5\" y=\"-238.3\" font-family=\"Helvetica,sans-Serif\" font-size=\"14.00\">gini = 0.0</text>\n<text text-anchor=\"middle\" x=\"505.5\" y=\"-223.3\" font-family=\"Helvetica,sans-Serif\" font-size=\"14.00\">samples = 4</text>\n<text text-anchor=\"middle\" x=\"505.5\" y=\"-208.3\" font-family=\"Helvetica,sans-Serif\" font-size=\"14.00\">value = [0, 4]</text>\n</g>\n<!-- 15&#45;&gt;17 -->\n<g id=\"edge17\" class=\"edge\">\n<title>15&#45;&gt;17</title>\n<path fill=\"none\" stroke=\"black\" d=\"M457.55,-296.88C465.36,-285.67 474.09,-273.13 481.94,-261.85\"/>\n<polygon fill=\"black\" stroke=\"black\" points=\"484.9,-263.73 487.74,-253.52 479.15,-259.73 484.9,-263.73\"/>\n</g>\n</g>\n</svg>\n",
      "text/plain": [
       "<graphviz.sources.Source at 0x20475eb2430>"
      ]
     },
     "execution_count": 117,
     "metadata": {},
     "output_type": "execute_result"
    }
   ],
   "source": [
    "import graphviz\n",
    "\n",
    "# 위에서 생성된 tree.dot 파일을 Graphviz 읽어서 Jupyter Notebook상에서 시각화 \n",
    "with open(\"tree1.dot\") as f :\n",
    "    dot_graph = f.read()\n",
    "graphviz.Source(dot_graph)"
   ]
  },
  {
   "cell_type": "code",
   "execution_count": null,
   "metadata": {},
   "outputs": [],
   "source": []
  }
 ],
 "metadata": {
  "kernelspec": {
   "display_name": "Python 3.9.2 64-bit",
   "language": "python",
   "name": "python3"
  },
  "language_info": {
   "codemirror_mode": {
    "name": "ipython",
    "version": 3
   },
   "file_extension": ".py",
   "mimetype": "text/x-python",
   "name": "python",
   "nbconvert_exporter": "python",
   "pygments_lexer": "ipython3",
   "version": "3.9.2"
  },
  "orig_nbformat": 4,
  "vscode": {
   "interpreter": {
    "hash": "0f8a409a227b6bd6067fb922e0bf5d196c11e3dbc44551f00863c01a656d3bdd"
   }
  }
 },
 "nbformat": 4,
 "nbformat_minor": 2
}
